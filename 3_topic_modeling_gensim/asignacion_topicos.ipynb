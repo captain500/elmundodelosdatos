{
 "cells": [
  {
   "cell_type": "markdown",
   "metadata": {},
   "source": [
    "# Tutorial: Introducción al Topic Modeling con Gensim"
   ]
  },
  {
   "cell_type": "code",
   "execution_count": 3,
   "metadata": {},
   "outputs": [],
   "source": [
    "import json, re\n",
    "import pandas as pd \n",
    "from nltk.corpus import stopwords\n",
    "from nltk.stem import SnowballStemmer\n",
    "from nltk.tokenize import ToktokTokenizer"
   ]
  },
  {
   "cell_type": "markdown",
   "metadata": {},
   "source": [
    "#### Cargamos los datos y creamos un Dataframe con los titulares y las noticias"
   ]
  },
  {
   "cell_type": "code",
   "execution_count": 4,
   "metadata": {
    "scrolled": true
   },
   "outputs": [
    {
     "name": "stdout",
     "output_type": "stream",
     "text": [
      "(5665, 2)\n"
     ]
    },
    {
     "data": {
      "text/html": [
       "<div>\n",
       "<style scoped>\n",
       "    .dataframe tbody tr th:only-of-type {\n",
       "        vertical-align: middle;\n",
       "    }\n",
       "\n",
       "    .dataframe tbody tr th {\n",
       "        vertical-align: top;\n",
       "    }\n",
       "\n",
       "    .dataframe thead th {\n",
       "        text-align: right;\n",
       "    }\n",
       "</style>\n",
       "<table border=\"1\" class=\"dataframe\">\n",
       "  <thead>\n",
       "    <tr style=\"text-align: right;\">\n",
       "      <th></th>\n",
       "      <th>Titular</th>\n",
       "      <th>Noticia</th>\n",
       "    </tr>\n",
       "  </thead>\n",
       "  <tbody>\n",
       "    <tr>\n",
       "      <th>0</th>\n",
       "      <td>Un estudio impulsado por la Universidad de San...</td>\n",
       "      <td>El virus SARS-Cov-2 entró en España por la ciu...</td>\n",
       "    </tr>\n",
       "    <tr>\n",
       "      <th>1</th>\n",
       "      <td>Las claves: qué es Montai y quién está detrás</td>\n",
       "      <td>¿Qué es Montai? ¿Qué relación guarda con las o...</td>\n",
       "    </tr>\n",
       "    <tr>\n",
       "      <th>2</th>\n",
       "      <td>Robots entregan domicilios en Medellín durante...</td>\n",
       "      <td>Unos 15 robots recorren las calles de Medellín...</td>\n",
       "    </tr>\n",
       "    <tr>\n",
       "      <th>3</th>\n",
       "      <td>Grazón insiste en que un nuevo estado de alarm...</td>\n",
       "      <td>En una entrevista en Radio Euskadi, recogida p...</td>\n",
       "    </tr>\n",
       "    <tr>\n",
       "      <th>4</th>\n",
       "      <td>Vox se sube a la ola de la extrema derecha eur...</td>\n",
       "      <td>\"España ha dejado de ser católica\", decía Manu...</td>\n",
       "    </tr>\n",
       "  </tbody>\n",
       "</table>\n",
       "</div>"
      ],
      "text/plain": [
       "                                             Titular  \\\n",
       "0  Un estudio impulsado por la Universidad de San...   \n",
       "1      Las claves: qué es Montai y quién está detrás   \n",
       "2  Robots entregan domicilios en Medellín durante...   \n",
       "3  Grazón insiste en que un nuevo estado de alarm...   \n",
       "4  Vox se sube a la ola de la extrema derecha eur...   \n",
       "\n",
       "                                             Noticia  \n",
       "0  El virus SARS-Cov-2 entró en España por la ciu...  \n",
       "1  ¿Qué es Montai? ¿Qué relación guarda con las o...  \n",
       "2  Unos 15 robots recorren las calles de Medellín...  \n",
       "3  En una entrevista en Radio Euskadi, recogida p...  \n",
       "4  \"España ha dejado de ser católica\", decía Manu...  "
      ]
     },
     "execution_count": 4,
     "metadata": {},
     "output_type": "execute_result"
    }
   ],
   "source": [
    "with open('noticias.txt') as json_file:\n",
    "    datos = json.load(json_file)\n",
    "tuplas = list(zip([noticia.get(\"titular\") for noticia in datos],[noticia.get(\"texto\") for noticia in datos]))\n",
    "df = pd.DataFrame(tuplas, columns =['Titular', 'Noticia'])\n",
    "print(df.shape)\n",
    "df.head()"
   ]
  },
  {
   "cell_type": "markdown",
   "metadata": {},
   "source": [
    "#### Preprocesamiento y limpieza de los textos\n",
    "\n",
    "Creamos un método que se encarge de realizar una limpieza inicial de los texto mediante la eliminación de los caracteres especiales, de las palabras con un solo caracter, convirtiendo a minúsculas los textos, etc."
   ]
  },
  {
   "cell_type": "code",
   "execution_count": 5,
   "metadata": {},
   "outputs": [],
   "source": [
    "def limpiar_texto(texto):\n",
    "    \"\"\"\n",
    "    Función para realizar una limpieza de un texto dado.\n",
    "    \"\"\"\n",
    "    # Eliminamos los caracteres especiales\n",
    "    texto = re.sub(r'\\W', ' ', str(texto))\n",
    "    # Eliminado las palabras que tengo un solo caracter\n",
    "    texto = re.sub(r'\\s+[a-zA-Z]\\s+', ' ', texto)\n",
    "    # Sustituir los espacios en blanco en uno solo\n",
    "    texto = re.sub(r'\\s+', ' ', texto, flags=re.I)\n",
    "    # Convertimos textos a minusculas\n",
    "    texto = texto.lower()\n",
    "    return texto"
   ]
  },
  {
   "cell_type": "markdown",
   "metadata": {},
   "source": [
    "Aplicamos la función a cada noticia"
   ]
  },
  {
   "cell_type": "code",
   "execution_count": 6,
   "metadata": {
    "scrolled": true
   },
   "outputs": [
    {
     "name": "stdout",
     "output_type": "stream",
     "text": [
      "el virus sars cov 2 entró en españa por la ciudad de vitoria en torno al 11 de febrero esa conclusión ha llegado el estudio elaborado por el instituto de investigación sanitaria de santiago de compostela idis que se acaba de publicar en la revista zoogical research los doctores al frente de la investigación aportan otro dato fundamental para entender el avance de la pandemia en nuestro país desde marzo hasta la actualidad se han identificado un total de cinco cepas genéticas del coronavirus las que se responsabiliza del 90 de los contagios producidos en nuestro país los doctores encargados del estudio antonio salas ellacuriaga federico martinón torres han analizado un total de 41 365 genomas de los que 1245 componen la muestra española a2a5 el segundo linaje más importante del virus en españa llegó desde italia en donde surgió su predecesor a2a es esta cepa del virus la que se hizo rápidamente fuerte en madrid según explican los investigadores luego pudo ser exportada otros lugares del mundo como inglaterra sudamérica b3a el primer linaje español el presente estudio es una continuación del proyecto previo del mismo grupo donde los autores descubrieron la importancia de los supercontagiadores como gran motor de la pandemia esta vez los científicos centraron sus esfuerzos en comprender la dinámica de transmisión en españa según el trabajo existen cinco linajes principales que explican casi el 90 de todos los incidentes en la base de datos de genomas a2a5 38 4 b3a 30 1 b9 8 7 a2a4 7 8 a2a10 2 8 mediante una combinación de análisis evolutivos matemáticos que tienen en cuenta no solo la cronología de los genomas sino también sus patrones de variación genómica fuimos capaces de reconstruir el origen más probable de estos linajes dentro fuera de españa explica antonio salas el estudio constata que mientras que b3a b9 el sublinaje a2a5 surgieron en españa a2a5 a2a4 a2a10 fueron importados de otros países de europa un aspecto distintivo del sars cov 2 en españa es la frecuencia tan elevada de genomas pertenecientes la cepa 39 3 mayoritariamente representadas por las sub cepas b3a b9 hicimos una investigación al más puro estilo policial aunando la información que procede de distintas fuentes básicamente evolutivas geoespaciales cronológicas filogeografía con la gran base de datos internacional de genomas utilizada en el estudio añade salas en relación con el linaje b3a a la luz de los datos existentes en los genomas que componen la muestra el estudio concluye que el país vasco es la zona más probable para albergar su origen por otro lado a2a5 el segundo linaje más importante en españa muy probablemente se originó en italia otro de los grandes epicentros no asiático en la expansión del coronavirus afirman salas martinón agencia sinc tasa de cambio del virus de los 41 362 genomas del coronavirus el grupo detectó 19 968 secuencias diferentes hoy es imposible reconocer si entre los más de 14 000 cambios genéticos detectados existe alguno que pudiera tener implicación en la eficacia de las futuras vacunas en los posibles tratamientos aunque sí es más predecible su impacto sobre los métodos de diagnóstico apunta salas según martinón es esencial estar atentos por las implicaciones nuestro sistema de clasificación puede ser una herramienta clave formar parte de las medidas de vigilancia activa de variabilidad del virus el estudio impulsado por la universidade de santiago pretende descifrar el comportamiento del coronavirus en nuestro país al considerar que españa fue uno de los principales grandes focos mundiales de la primera ola de la pandemia la investigación es la mayor llevada cabo de manera global en relación con la variabilidad genómica del sars cov 2 en el mundo el primero en explorar la variación genética en españa etiquetas galicia euskadi\n"
     ]
    },
    {
     "data": {
      "text/html": [
       "<div>\n",
       "<style scoped>\n",
       "    .dataframe tbody tr th:only-of-type {\n",
       "        vertical-align: middle;\n",
       "    }\n",
       "\n",
       "    .dataframe tbody tr th {\n",
       "        vertical-align: top;\n",
       "    }\n",
       "\n",
       "    .dataframe thead th {\n",
       "        text-align: right;\n",
       "    }\n",
       "</style>\n",
       "<table border=\"1\" class=\"dataframe\">\n",
       "  <thead>\n",
       "    <tr style=\"text-align: right;\">\n",
       "      <th></th>\n",
       "      <th>Titular</th>\n",
       "      <th>Noticia</th>\n",
       "      <th>Tokens</th>\n",
       "    </tr>\n",
       "  </thead>\n",
       "  <tbody>\n",
       "    <tr>\n",
       "      <th>0</th>\n",
       "      <td>Un estudio impulsado por la Universidad de San...</td>\n",
       "      <td>El virus SARS-Cov-2 entró en España por la ciu...</td>\n",
       "      <td>el virus sars cov 2 entró en españa por la ciu...</td>\n",
       "    </tr>\n",
       "    <tr>\n",
       "      <th>1</th>\n",
       "      <td>Las claves: qué es Montai y quién está detrás</td>\n",
       "      <td>¿Qué es Montai? ¿Qué relación guarda con las o...</td>\n",
       "      <td>qué es montai qué relación guarda con las otr...</td>\n",
       "    </tr>\n",
       "    <tr>\n",
       "      <th>2</th>\n",
       "      <td>Robots entregan domicilios en Medellín durante...</td>\n",
       "      <td>Unos 15 robots recorren las calles de Medellín...</td>\n",
       "      <td>unos 15 robots recorren las calles de medellín...</td>\n",
       "    </tr>\n",
       "    <tr>\n",
       "      <th>3</th>\n",
       "      <td>Grazón insiste en que un nuevo estado de alarm...</td>\n",
       "      <td>En una entrevista en Radio Euskadi, recogida p...</td>\n",
       "      <td>en una entrevista en radio euskadi recogida po...</td>\n",
       "    </tr>\n",
       "    <tr>\n",
       "      <th>4</th>\n",
       "      <td>Vox se sube a la ola de la extrema derecha eur...</td>\n",
       "      <td>\"España ha dejado de ser católica\", decía Manu...</td>\n",
       "      <td>españa ha dejado de ser católica decía manuel...</td>\n",
       "    </tr>\n",
       "  </tbody>\n",
       "</table>\n",
       "</div>"
      ],
      "text/plain": [
       "                                             Titular  \\\n",
       "0  Un estudio impulsado por la Universidad de San...   \n",
       "1      Las claves: qué es Montai y quién está detrás   \n",
       "2  Robots entregan domicilios en Medellín durante...   \n",
       "3  Grazón insiste en que un nuevo estado de alarm...   \n",
       "4  Vox se sube a la ola de la extrema derecha eur...   \n",
       "\n",
       "                                             Noticia  \\\n",
       "0  El virus SARS-Cov-2 entró en España por la ciu...   \n",
       "1  ¿Qué es Montai? ¿Qué relación guarda con las o...   \n",
       "2  Unos 15 robots recorren las calles de Medellín...   \n",
       "3  En una entrevista en Radio Euskadi, recogida p...   \n",
       "4  \"España ha dejado de ser católica\", decía Manu...   \n",
       "\n",
       "                                              Tokens  \n",
       "0  el virus sars cov 2 entró en españa por la ciu...  \n",
       "1   qué es montai qué relación guarda con las otr...  \n",
       "2  unos 15 robots recorren las calles de medellín...  \n",
       "3  en una entrevista en radio euskadi recogida po...  \n",
       "4   españa ha dejado de ser católica decía manuel...  "
      ]
     },
     "execution_count": 6,
     "metadata": {},
     "output_type": "execute_result"
    }
   ],
   "source": [
    "df[\"Tokens\"] = df.Noticia.apply(limpiar_texto)\n",
    "print(df.Tokens[0])\n",
    "df.head()"
   ]
  },
  {
   "cell_type": "markdown",
   "metadata": {},
   "source": [
    "Realizo la tokenización para dividir los textos en palabras individuales. "
   ]
  },
  {
   "cell_type": "code",
   "execution_count": 7,
   "metadata": {
    "scrolled": true
   },
   "outputs": [
    {
     "name": "stdout",
     "output_type": "stream",
     "text": [
      "['el', 'virus', 'sars', 'cov', '2', 'entró', 'en', 'españa', 'por', 'la', 'ciudad', 'de', 'vitoria', 'en', 'torno', 'al', '11', 'de', 'febrero', 'esa', 'conclusión', 'ha', 'llegado', 'el', 'estudio', 'elaborado', 'por', 'el', 'instituto', 'de', 'investigación', 'sanitaria', 'de', 'santiago', 'de', 'compostela', 'idis', 'que', 'se', 'acaba', 'de', 'publicar', 'en', 'la', 'revista', 'zoogical', 'research', 'los', 'doctores', 'al', 'frente', 'de', 'la', 'investigación', 'aportan', 'otro', 'dato', 'fundamental', 'para', 'entender', 'el', 'avance', 'de', 'la', 'pandemia', 'en', 'nuestro', 'país', 'desde', 'marzo', 'hasta', 'la', 'actualidad', 'se', 'han', 'identificado', 'un', 'total', 'de', 'cinco', 'cepas', 'genéticas', 'del', 'coronavirus', 'las', 'que', 'se', 'responsabiliza', 'del', '90', 'de', 'los', 'contagios', 'producidos', 'en', 'nuestro', 'país', 'los', 'doctores', 'encargados', 'del', 'estudio', 'antonio', 'salas', 'ellacuriaga', 'federico', 'martinón', 'torres', 'han', 'analizado', 'un', 'total', 'de', '41', '365', 'genomas', 'de', 'los', 'que', '1245', 'componen', 'la', 'muestra', 'española', 'a2a5', 'el', 'segundo', 'linaje', 'más', 'importante', 'del', 'virus', 'en', 'españa', 'llegó', 'desde', 'italia', 'en', 'donde', 'surgió', 'su', 'predecesor', 'a2a', 'es', 'esta', 'cepa', 'del', 'virus', 'la', 'que', 'se', 'hizo', 'rápidamente', 'fuerte', 'en', 'madrid', 'según', 'explican', 'los', 'investigadores', 'luego', 'pudo', 'ser', 'exportada', 'otros', 'lugares', 'del', 'mundo', 'como', 'inglaterra', 'sudamérica', 'b3a', 'el', 'primer', 'linaje', 'español', 'el', 'presente', 'estudio', 'es', 'una', 'continuación', 'del', 'proyecto', 'previo', 'del', 'mismo', 'grupo', 'donde', 'los', 'autores', 'descubrieron', 'la', 'importancia', 'de', 'los', 'supercontagiadores', 'como', 'gran', 'motor', 'de', 'la', 'pandemia', 'esta', 'vez', 'los', 'científicos', 'centraron', 'sus', 'esfuerzos', 'en', 'comprender', 'la', 'dinámica', 'de', 'transmisión', 'en', 'españa', 'según', 'el', 'trabajo', 'existen', 'cinco', 'linajes', 'principales', 'que', 'explican', 'casi', 'el', '90', 'de', 'todos', 'los', 'incidentes', 'en', 'la', 'base', 'de', 'datos', 'de', 'genomas', 'a2a5', '38', '4', 'b3a', '30', '1', 'b9', '8', '7', 'a2a4', '7', '8', 'a2a10', '2', '8', 'mediante', 'una', 'combinación', 'de', 'análisis', 'evolutivos', 'matemáticos', 'que', 'tienen', 'en', 'cuenta', 'no', 'solo', 'la', 'cronología', 'de', 'los', 'genomas', 'sino', 'también', 'sus', 'patrones', 'de', 'variación', 'genómica', 'fuimos', 'capaces', 'de', 'reconstruir', 'el', 'origen', 'más', 'probable', 'de', 'estos', 'linajes', 'dentro', 'fuera', 'de', 'españa', 'explica', 'antonio', 'salas', 'el', 'estudio', 'constata', 'que', 'mientras', 'que', 'b3a', 'b9', 'el', 'sublinaje', 'a2a5', 'surgieron', 'en', 'españa', 'a2a5', 'a2a4', 'a2a10', 'fueron', 'importados', 'de', 'otros', 'países', 'de', 'europa', 'un', 'aspecto', 'distintivo', 'del', 'sars', 'cov', '2', 'en', 'españa', 'es', 'la', 'frecuencia', 'tan', 'elevada', 'de', 'genomas', 'pertenecientes', 'la', 'cepa', '39', '3', 'mayoritariamente', 'representadas', 'por', 'las', 'sub', 'cepas', 'b3a', 'b9', 'hicimos', 'una', 'investigación', 'al', 'más', 'puro', 'estilo', 'policial', 'aunando', 'la', 'información', 'que', 'procede', 'de', 'distintas', 'fuentes', 'básicamente', 'evolutivas', 'geoespaciales', 'cronológicas', 'filogeografía', 'con', 'la', 'gran', 'base', 'de', 'datos', 'internacional', 'de', 'genomas', 'utilizada', 'en', 'el', 'estudio', 'añade', 'salas', 'en', 'relación', 'con', 'el', 'linaje', 'b3a', 'a', 'la', 'luz', 'de', 'los', 'datos', 'existentes', 'en', 'los', 'genomas', 'que', 'componen', 'la', 'muestra', 'el', 'estudio', 'concluye', 'que', 'el', 'país', 'vasco', 'es', 'la', 'zona', 'más', 'probable', 'para', 'albergar', 'su', 'origen', 'por', 'otro', 'lado', 'a2a5', 'el', 'segundo', 'linaje', 'más', 'importante', 'en', 'españa', 'muy', 'probablemente', 'se', 'originó', 'en', 'italia', 'otro', 'de', 'los', 'grandes', 'epicentros', 'no', 'asiático', 'en', 'la', 'expansión', 'del', 'coronavirus', 'afirman', 'salas', 'martinón', 'agencia', 'sinc', 'tasa', 'de', 'cambio', 'del', 'virus', 'de', 'los', '41', '362', 'genomas', 'del', 'coronavirus', 'el', 'grupo', 'detectó', '19', '968', 'secuencias', 'diferentes', 'hoy', 'es', 'imposible', 'reconocer', 'si', 'entre', 'los', 'más', 'de', '14', '000', 'cambios', 'genéticos', 'detectados', 'existe', 'alguno', 'que', 'pudiera', 'tener', 'implicación', 'en', 'la', 'eficacia', 'de', 'las', 'futuras', 'vacunas', 'en', 'los', 'posibles', 'tratamientos', 'aunque', 'sí', 'es', 'más', 'predecible', 'su', 'impacto', 'sobre', 'los', 'métodos', 'de', 'diagnóstico', 'apunta', 'salas', 'según', 'martinón', 'es', 'esencial', 'estar', 'atentos', 'por', 'las', 'implicaciones', 'nuestro', 'sistema', 'de', 'clasificación', 'puede', 'ser', 'una', 'herramienta', 'clave', 'formar', 'parte', 'de', 'las', 'medidas', 'de', 'vigilancia', 'activa', 'de', 'variabilidad', 'del', 'virus', 'el', 'estudio', 'impulsado', 'por', 'la', 'universidade', 'de', 'santiago', 'pretende', 'descifrar', 'el', 'comportamiento', 'del', 'coronavirus', 'en', 'nuestro', 'país', 'al', 'considerar', 'que', 'españa', 'fue', 'uno', 'de', 'los', 'principales', 'grandes', 'focos', 'mundiales', 'de', 'la', 'primera', 'ola', 'de', 'la', 'pandemia', 'la', 'investigación', 'es', 'la', 'mayor', 'llevada', 'cabo', 'de', 'manera', 'global', 'en', 'relación', 'con', 'la', 'variabilidad', 'genómica', 'del', 'sars', 'cov', '2', 'en', 'el', 'mundo', 'el', 'primero', 'en', 'explorar', 'la', 'variación', 'genética', 'en', 'españa', 'etiquetas', 'galicia', 'euskadi']\n"
     ]
    },
    {
     "data": {
      "text/html": [
       "<div>\n",
       "<style scoped>\n",
       "    .dataframe tbody tr th:only-of-type {\n",
       "        vertical-align: middle;\n",
       "    }\n",
       "\n",
       "    .dataframe tbody tr th {\n",
       "        vertical-align: top;\n",
       "    }\n",
       "\n",
       "    .dataframe thead th {\n",
       "        text-align: right;\n",
       "    }\n",
       "</style>\n",
       "<table border=\"1\" class=\"dataframe\">\n",
       "  <thead>\n",
       "    <tr style=\"text-align: right;\">\n",
       "      <th></th>\n",
       "      <th>Titular</th>\n",
       "      <th>Noticia</th>\n",
       "      <th>Tokens</th>\n",
       "    </tr>\n",
       "  </thead>\n",
       "  <tbody>\n",
       "    <tr>\n",
       "      <th>0</th>\n",
       "      <td>Un estudio impulsado por la Universidad de San...</td>\n",
       "      <td>El virus SARS-Cov-2 entró en España por la ciu...</td>\n",
       "      <td>[el, virus, sars, cov, 2, entró, en, españa, p...</td>\n",
       "    </tr>\n",
       "    <tr>\n",
       "      <th>1</th>\n",
       "      <td>Las claves: qué es Montai y quién está detrás</td>\n",
       "      <td>¿Qué es Montai? ¿Qué relación guarda con las o...</td>\n",
       "      <td>[qué, es, montai, qué, relación, guarda, con, ...</td>\n",
       "    </tr>\n",
       "    <tr>\n",
       "      <th>2</th>\n",
       "      <td>Robots entregan domicilios en Medellín durante...</td>\n",
       "      <td>Unos 15 robots recorren las calles de Medellín...</td>\n",
       "      <td>[unos, 15, robots, recorren, las, calles, de, ...</td>\n",
       "    </tr>\n",
       "    <tr>\n",
       "      <th>3</th>\n",
       "      <td>Grazón insiste en que un nuevo estado de alarm...</td>\n",
       "      <td>En una entrevista en Radio Euskadi, recogida p...</td>\n",
       "      <td>[en, una, entrevista, en, radio, euskadi, reco...</td>\n",
       "    </tr>\n",
       "    <tr>\n",
       "      <th>4</th>\n",
       "      <td>Vox se sube a la ola de la extrema derecha eur...</td>\n",
       "      <td>\"España ha dejado de ser católica\", decía Manu...</td>\n",
       "      <td>[españa, ha, dejado, de, ser, católica, decía,...</td>\n",
       "    </tr>\n",
       "  </tbody>\n",
       "</table>\n",
       "</div>"
      ],
      "text/plain": [
       "                                             Titular  \\\n",
       "0  Un estudio impulsado por la Universidad de San...   \n",
       "1      Las claves: qué es Montai y quién está detrás   \n",
       "2  Robots entregan domicilios en Medellín durante...   \n",
       "3  Grazón insiste en que un nuevo estado de alarm...   \n",
       "4  Vox se sube a la ola de la extrema derecha eur...   \n",
       "\n",
       "                                             Noticia  \\\n",
       "0  El virus SARS-Cov-2 entró en España por la ciu...   \n",
       "1  ¿Qué es Montai? ¿Qué relación guarda con las o...   \n",
       "2  Unos 15 robots recorren las calles de Medellín...   \n",
       "3  En una entrevista en Radio Euskadi, recogida p...   \n",
       "4  \"España ha dejado de ser católica\", decía Manu...   \n",
       "\n",
       "                                              Tokens  \n",
       "0  [el, virus, sars, cov, 2, entró, en, españa, p...  \n",
       "1  [qué, es, montai, qué, relación, guarda, con, ...  \n",
       "2  [unos, 15, robots, recorren, las, calles, de, ...  \n",
       "3  [en, una, entrevista, en, radio, euskadi, reco...  \n",
       "4  [españa, ha, dejado, de, ser, católica, decía,...  "
      ]
     },
     "execution_count": 7,
     "metadata": {},
     "output_type": "execute_result"
    }
   ],
   "source": [
    "tokenizer = ToktokTokenizer() \n",
    "df[\"Tokens\"] = df.Tokens.apply(tokenizer.tokenize)\n",
    "print(df.Tokens[0])\n",
    "df.head()"
   ]
  },
  {
   "cell_type": "markdown",
   "metadata": {},
   "source": [
    "Filtro las stopwords y los dígitos."
   ]
  },
  {
   "cell_type": "code",
   "execution_count": 8,
   "metadata": {},
   "outputs": [
    {
     "data": {
      "text/html": [
       "<div>\n",
       "<style scoped>\n",
       "    .dataframe tbody tr th:only-of-type {\n",
       "        vertical-align: middle;\n",
       "    }\n",
       "\n",
       "    .dataframe tbody tr th {\n",
       "        vertical-align: top;\n",
       "    }\n",
       "\n",
       "    .dataframe thead th {\n",
       "        text-align: right;\n",
       "    }\n",
       "</style>\n",
       "<table border=\"1\" class=\"dataframe\">\n",
       "  <thead>\n",
       "    <tr style=\"text-align: right;\">\n",
       "      <th></th>\n",
       "      <th>Titular</th>\n",
       "      <th>Noticia</th>\n",
       "      <th>Tokens</th>\n",
       "    </tr>\n",
       "  </thead>\n",
       "  <tbody>\n",
       "    <tr>\n",
       "      <th>0</th>\n",
       "      <td>Un estudio impulsado por la Universidad de San...</td>\n",
       "      <td>El virus SARS-Cov-2 entró en España por la ciu...</td>\n",
       "      <td>[virus, sars, cov, entró, españa, ciudad, vito...</td>\n",
       "    </tr>\n",
       "    <tr>\n",
       "      <th>1</th>\n",
       "      <td>Las claves: qué es Montai y quién está detrás</td>\n",
       "      <td>¿Qué es Montai? ¿Qué relación guarda con las o...</td>\n",
       "      <td>[montai, relación, guarda, empresas, quién, de...</td>\n",
       "    </tr>\n",
       "    <tr>\n",
       "      <th>2</th>\n",
       "      <td>Robots entregan domicilios en Medellín durante...</td>\n",
       "      <td>Unos 15 robots recorren las calles de Medellín...</td>\n",
       "      <td>[robots, recorren, calles, medellín, realizar,...</td>\n",
       "    </tr>\n",
       "    <tr>\n",
       "      <th>3</th>\n",
       "      <td>Grazón insiste en que un nuevo estado de alarm...</td>\n",
       "      <td>En una entrevista en Radio Euskadi, recogida p...</td>\n",
       "      <td>[entrevista, radio, euskadi, recogida, europa,...</td>\n",
       "    </tr>\n",
       "    <tr>\n",
       "      <th>4</th>\n",
       "      <td>Vox se sube a la ola de la extrema derecha eur...</td>\n",
       "      <td>\"España ha dejado de ser católica\", decía Manu...</td>\n",
       "      <td>[españa, dejado, ser, católica, decía, manuel,...</td>\n",
       "    </tr>\n",
       "  </tbody>\n",
       "</table>\n",
       "</div>"
      ],
      "text/plain": [
       "                                             Titular  \\\n",
       "0  Un estudio impulsado por la Universidad de San...   \n",
       "1      Las claves: qué es Montai y quién está detrás   \n",
       "2  Robots entregan domicilios en Medellín durante...   \n",
       "3  Grazón insiste en que un nuevo estado de alarm...   \n",
       "4  Vox se sube a la ola de la extrema derecha eur...   \n",
       "\n",
       "                                             Noticia  \\\n",
       "0  El virus SARS-Cov-2 entró en España por la ciu...   \n",
       "1  ¿Qué es Montai? ¿Qué relación guarda con las o...   \n",
       "2  Unos 15 robots recorren las calles de Medellín...   \n",
       "3  En una entrevista en Radio Euskadi, recogida p...   \n",
       "4  \"España ha dejado de ser católica\", decía Manu...   \n",
       "\n",
       "                                              Tokens  \n",
       "0  [virus, sars, cov, entró, españa, ciudad, vito...  \n",
       "1  [montai, relación, guarda, empresas, quién, de...  \n",
       "2  [robots, recorren, calles, medellín, realizar,...  \n",
       "3  [entrevista, radio, euskadi, recogida, europa,...  \n",
       "4  [españa, dejado, ser, católica, decía, manuel,...  "
      ]
     },
     "execution_count": 8,
     "metadata": {},
     "output_type": "execute_result"
    }
   ],
   "source": [
    "STOPWORDS = set(stopwords.words(\"spanish\"))\n",
    "\n",
    "def filtrar_stopword_digitos(tokens):\n",
    "    \"\"\"\n",
    "    Filtra stopwords y digitos de una lista de tokens.\n",
    "    \"\"\"\n",
    "    return [token for token in tokens if token not in STOPWORDS and not token.isdigit()]\n",
    "\n",
    "df[\"Tokens\"] = df.Tokens.apply(filtrar_stopword_digitos)\n",
    "\n",
    "df.head()"
   ]
  },
  {
   "cell_type": "markdown",
   "metadata": {},
   "source": [
    "Finalmente, reducimos cada palabra a su raíz mediante el proceso de stemming. "
   ]
  },
  {
   "cell_type": "code",
   "execution_count": 9,
   "metadata": {},
   "outputs": [
    {
     "data": {
      "text/html": [
       "<div>\n",
       "<style scoped>\n",
       "    .dataframe tbody tr th:only-of-type {\n",
       "        vertical-align: middle;\n",
       "    }\n",
       "\n",
       "    .dataframe tbody tr th {\n",
       "        vertical-align: top;\n",
       "    }\n",
       "\n",
       "    .dataframe thead th {\n",
       "        text-align: right;\n",
       "    }\n",
       "</style>\n",
       "<table border=\"1\" class=\"dataframe\">\n",
       "  <thead>\n",
       "    <tr style=\"text-align: right;\">\n",
       "      <th></th>\n",
       "      <th>Titular</th>\n",
       "      <th>Noticia</th>\n",
       "      <th>Tokens</th>\n",
       "    </tr>\n",
       "  </thead>\n",
       "  <tbody>\n",
       "    <tr>\n",
       "      <th>0</th>\n",
       "      <td>Un estudio impulsado por la Universidad de San...</td>\n",
       "      <td>El virus SARS-Cov-2 entró en España por la ciu...</td>\n",
       "      <td>[virus, sars, cov, entro, españ, ciud, vitori,...</td>\n",
       "    </tr>\n",
       "    <tr>\n",
       "      <th>1</th>\n",
       "      <td>Las claves: qué es Montai y quién está detrás</td>\n",
       "      <td>¿Qué es Montai? ¿Qué relación guarda con las o...</td>\n",
       "      <td>[montai, relacion, guard, empres, quien, detra...</td>\n",
       "    </tr>\n",
       "    <tr>\n",
       "      <th>2</th>\n",
       "      <td>Robots entregan domicilios en Medellín durante...</td>\n",
       "      <td>Unos 15 robots recorren las calles de Medellín...</td>\n",
       "      <td>[robots, recorr, call, medellin, realiz, entre...</td>\n",
       "    </tr>\n",
       "    <tr>\n",
       "      <th>3</th>\n",
       "      <td>Grazón insiste en que un nuevo estado de alarm...</td>\n",
       "      <td>En una entrevista en Radio Euskadi, recogida p...</td>\n",
       "      <td>[entrev, radi, euskadi, recog, europ, press, g...</td>\n",
       "    </tr>\n",
       "    <tr>\n",
       "      <th>4</th>\n",
       "      <td>Vox se sube a la ola de la extrema derecha eur...</td>\n",
       "      <td>\"España ha dejado de ser católica\", decía Manu...</td>\n",
       "      <td>[españ, dej, ser, catol, dec, manuel, azañ, co...</td>\n",
       "    </tr>\n",
       "  </tbody>\n",
       "</table>\n",
       "</div>"
      ],
      "text/plain": [
       "                                             Titular  \\\n",
       "0  Un estudio impulsado por la Universidad de San...   \n",
       "1      Las claves: qué es Montai y quién está detrás   \n",
       "2  Robots entregan domicilios en Medellín durante...   \n",
       "3  Grazón insiste en que un nuevo estado de alarm...   \n",
       "4  Vox se sube a la ola de la extrema derecha eur...   \n",
       "\n",
       "                                             Noticia  \\\n",
       "0  El virus SARS-Cov-2 entró en España por la ciu...   \n",
       "1  ¿Qué es Montai? ¿Qué relación guarda con las o...   \n",
       "2  Unos 15 robots recorren las calles de Medellín...   \n",
       "3  En una entrevista en Radio Euskadi, recogida p...   \n",
       "4  \"España ha dejado de ser católica\", decía Manu...   \n",
       "\n",
       "                                              Tokens  \n",
       "0  [virus, sars, cov, entro, españ, ciud, vitori,...  \n",
       "1  [montai, relacion, guard, empres, quien, detra...  \n",
       "2  [robots, recorr, call, medellin, realiz, entre...  \n",
       "3  [entrev, radi, euskadi, recog, europ, press, g...  \n",
       "4  [españ, dej, ser, catol, dec, manuel, azañ, co...  "
      ]
     },
     "execution_count": 9,
     "metadata": {},
     "output_type": "execute_result"
    }
   ],
   "source": [
    "stemmer = SnowballStemmer(\"spanish\")\n",
    "\n",
    "def stem_palabras(tokens):\n",
    "    \"\"\"\n",
    "    Reduce cada palabra de una lista dada a su raíz.\n",
    "    \"\"\"\n",
    "    return [stemmer.stem(token) for token in tokens]\n",
    "\n",
    "df[\"Tokens\"] = df.Tokens.apply(stem_palabras)\n",
    "\n",
    "df.head()"
   ]
  },
  {
   "cell_type": "markdown",
   "metadata": {},
   "source": [
    "## Parte II: Asignación de tópicos"
   ]
  },
  {
   "cell_type": "markdown",
   "metadata": {},
   "source": [
    "#### Importamos las librerías necesarias"
   ]
  },
  {
   "cell_type": "code",
   "execution_count": 10,
   "metadata": {},
   "outputs": [],
   "source": [
    "from gensim.corpora import Dictionary\n",
    "from gensim.models import LdaModel\n",
    "import random\n",
    "import numpy as np\n",
    "import matplotlib.pyplot as plt\n",
    "from wordcloud import WordCloud\n",
    "%matplotlib inline"
   ]
  },
  {
   "cell_type": "markdown",
   "metadata": {},
   "source": [
    "#### Creamos el diccionario necesario para el modelo LDA\n",
    "Para ello le pasamos las listas con los tokens."
   ]
  },
  {
   "cell_type": "code",
   "execution_count": 11,
   "metadata": {},
   "outputs": [
    {
     "name": "stdout",
     "output_type": "stream",
     "text": [
      "Número de tokens: 47388\n"
     ]
    }
   ],
   "source": [
    "diccionario = Dictionary(df.Tokens)\n",
    "print(f'Número de tokens: {len(diccionario)}')"
   ]
  },
  {
   "cell_type": "markdown",
   "metadata": {},
   "source": [
    "Con filter_extremes mantenemos únicamentos los tokens que están mantenidos en al menos no_below documentos y los que están contenidos en no mas de no_above documentos. En este último caso le indicamos una fracción del tamaño del corpus."
   ]
  },
  {
   "cell_type": "code",
   "execution_count": 12,
   "metadata": {},
   "outputs": [
    {
     "name": "stdout",
     "output_type": "stream",
     "text": [
      "Número de tokens: 25522\n"
     ]
    }
   ],
   "source": [
    "diccionario.filter_extremes(no_below=2, no_above = 0.8)\n",
    "print(f'Número de tokens: {len(diccionario)}')"
   ]
  },
  {
   "cell_type": "markdown",
   "metadata": {},
   "source": [
    "Transformamos cada articulo en una representación vectorial (bolsa de palabras o BOW) con su frecuencia de aparición, para que nos sirva como entrada para el modelo LDA."
   ]
  },
  {
   "cell_type": "code",
   "execution_count": 18,
   "metadata": {},
   "outputs": [
    {
     "name": "stdout",
     "output_type": "stream",
     "text": [
      "[(3, 1), (25, 1), (26, 6), (29, 1), (40, 1), (41, 3), (44, 1), (48, 7), (52, 2), (67, 1), (68, 1), (77, 1), (86, 1), (94, 1), (96, 1), (108, 4), (116, 1), (118, 1), (121, 1), (131, 2), (146, 2), (149, 2), (164, 1), (172, 1), (176, 2), (178, 1), (193, 1), (204, 1), (210, 1), (222, 1), (235, 3), (236, 4), (238, 1), (245, 1), (268, 1), (276, 1), (283, 1), (295, 1), (299, 1), (311, 3), (312, 2), (339, 1), (349, 1), (367, 11), (372, 1), (394, 12), (407, 1), (413, 1), (431, 1), (436, 2), (439, 1), (440, 1), (450, 1), (454, 2), (462, 2), (475, 3), (478, 2), (492, 1), (498, 1), (502, 2), (513, 2), (525, 1), (531, 3), (549, 1), (561, 1), (574, 1), (587, 2), (615, 1), (631, 1), (640, 1), (650, 3), (653, 2), (656, 1), (660, 1), (677, 1), (680, 1), (683, 1), (684, 1), (686, 2), (694, 1), (732, 1), (784, 2), (793, 2), (794, 1), (804, 2), (817, 3), (830, 1), (839, 1), (840, 1), (842, 1), (852, 1), (866, 2), (913, 1), (915, 1), (917, 2), (921, 2), (933, 1), (958, 1), (1055, 1), (1057, 1), (1060, 1), (1073, 1), (1122, 1), (1140, 1), (1141, 1), (1142, 1), (1143, 1), (1144, 1), (1145, 1), (1146, 1), (1147, 1), (1148, 1), (1149, 1), (1150, 6), (1151, 1), (1152, 1), (1153, 1), (1154, 13), (1155, 1), (1156, 1), (1157, 1), (1158, 3), (1159, 1), (1160, 1), (1161, 1), (1162, 1), (1163, 1), (1164, 1), (1165, 1), (1166, 2), (1167, 3), (1168, 1), (1169, 1), (1170, 1), (1171, 1), (1172, 1), (1173, 1), (1174, 1), (1175, 1), (1176, 2), (1177, 2), (1178, 1), (1179, 1), (1180, 1), (1181, 1), (1182, 1), (1183, 1), (1184, 1), (1185, 1), (1186, 1), (1187, 1), (1188, 1), (1189, 1), (1190, 1), (1191, 1), (1192, 1), (1193, 1), (1194, 1), (1195, 1), (1196, 1), (1197, 2), (1198, 1), (1199, 1), (1200, 1), (1201, 1), (1202, 1), (1203, 2), (1204, 3), (1205, 1), (1206, 1), (1207, 1), (1208, 1), (1209, 1), (1210, 2), (1211, 1), (1212, 1), (1213, 1), (1214, 1), (1215, 10), (1216, 1), (1217, 1), (1218, 1), (1219, 1), (1220, 1), (1221, 1), (1222, 1), (1223, 1), (1224, 1), (1225, 1), (1226, 3), (1227, 1), (1228, 2), (1229, 1), (1230, 3)]\n"
     ]
    }
   ],
   "source": [
    "# Creamos el corpus \n",
    "corpus = [diccionario.doc2bow(noticia) for noticia in df.Tokens]\n",
    "\n",
    "# Mostramos el BOW de una noticia representado \n",
    "# como una lista de tuplas (ID, frecuencia)\n",
    "print(corpus[6])"
   ]
  },
  {
   "cell_type": "markdown",
   "metadata": {},
   "source": [
    "#### Construimos el modelo LDA"
   ]
  },
  {
   "cell_type": "code",
   "execution_count": 15,
   "metadata": {},
   "outputs": [],
   "source": [
    "lda = LdaModel(corpus=corpus, id2word=diccionario, \n",
    "               num_topics=50, random_state=42, \n",
    "               chunksize=1000, passes=10, alpha='auto')"
   ]
  },
  {
   "cell_type": "code",
   "execution_count": 16,
   "metadata": {},
   "outputs": [
    {
     "name": "stdout",
     "output_type": "stream",
     "text": [
      "(32, '0.065*\"azul\" + 0.055*\"eolic\" + 0.041*\"sueñ\" + 0.039*\"arroy\" + 0.037*\"luz\"')\n",
      "(10, '0.103*\"dolar\" + 0.084*\"uu\" + 0.084*\"ee\" + 0.025*\"jon\" + 0.023*\"street\"')\n",
      "(38, '0.173*\"encuest\" + 0.047*\"votant\" + 0.042*\"dat\" + 0.041*\"ciudadan\" + 0.040*\"cis\"')\n",
      "(20, '0.081*\"israel\" + 0.042*\"palestin\" + 0.019*\"netanyahu\" + 0.018*\"trump\" + 0.014*\"territori\"')\n",
      "(29, '0.133*\"dependent\" + 0.042*\"punic\" + 0.038*\"dependient\" + 0.038*\"ramirez\" + 0.029*\"list\"')\n",
      "(34, '0.121*\"cantabri\" + 0.087*\"santand\" + 0.048*\"cantabr\" + 0.040*\"miguel\" + 0.031*\"mar\"')\n",
      "(24, '0.028*\"efect\" + 0.024*\"estudi\" + 0.015*\"tratamient\" + 0.014*\"pued\" + 0.013*\"salud\"')\n",
      "(9, '0.039*\"miguel\" + 0.023*\"cas\" + 0.015*\"conden\" + 0.013*\"pnv\" + 0.012*\"corrupcion\"')\n",
      "(37, '0.305*\"castill\" + 0.184*\"leon\" + 0.085*\"junt\" + 0.064*\"valladol\" + 0.038*\"provinci\"')\n",
      "(4, '0.035*\"cas\" + 0.031*\"univers\" + 0.027*\"mast\" + 0.020*\"cifuent\" + 0.015*\"curs\"')\n",
      "(26, '0.032*\"millon\" + 0.024*\"eur\" + 0.019*\"econom\" + 0.014*\"año\" + 0.009*\"banc\"')\n",
      "(35, '0.009*\"proyect\" + 0.008*\"agu\" + 0.007*\"desarroll\" + 0.006*\"cambi\" + 0.006*\"medi\"')\n",
      "(17, '0.021*\"inform\" + 0.016*\"public\" + 0.011*\"empres\" + 0.008*\"eur\" + 0.007*\"segun\"')\n",
      "(48, '0.015*\"barri\" + 0.013*\"social\" + 0.012*\"viv\" + 0.012*\"call\" + 0.012*\"person\"')\n",
      "(43, '0.020*\"pp\" + 0.020*\"part\" + 0.018*\"gobiern\" + 0.013*\"polit\" + 0.010*\"sanchez\"')\n",
      "(1, '0.017*\"gobiern\" + 0.014*\"comun\" + 0.013*\"sanitari\" + 0.010*\"salud\" + 0.008*\"sanid\"')\n",
      "(46, '0.008*\"histori\" + 0.007*\"libr\" + 0.006*\"pelicul\" + 0.005*\"cin\" + 0.005*\"años\"')\n",
      "(49, '0.014*\"tribunal\" + 0.008*\"fiscal\" + 0.008*\"judicial\" + 0.008*\"justici\" + 0.007*\"derech\"')\n",
      "(11, '0.012*\"años\" + 0.010*\"pas\" + 0.009*\"cas\" + 0.009*\"hac\" + 0.008*\"dos\"')\n",
      "(19, '0.022*\"hac\" + 0.017*\"si\" + 0.014*\"pued\" + 0.011*\"cre\" + 0.011*\"ser\"')\n"
     ]
    }
   ],
   "source": [
    "topicos = lda.print_topics(num_words=5, num_topics=20)\n",
    "for topico in topicos:\n",
    "    print(topico)"
   ]
  },
  {
   "cell_type": "markdown",
   "metadata": {},
   "source": [
    "Visualizamos los tópicos como nubes de palabras"
   ]
  },
  {
   "cell_type": "code",
   "execution_count": 19,
   "metadata": {},
   "outputs": [
    {
     "data": {
      "image/png": "[encoded data removed]",
      "text/plain": [
       "<Figure size 432x288 with 1 Axes>"
      ]
     },
     "metadata": {
      "needs_background": "light"
     },
     "output_type": "display_data"
    },
    {
     "data": {
      "image/png": "[encoded data removed]",
      "text/plain": [
       "<Figure size 432x288 with 1 Axes>"
      ]
     },
     "metadata": {
      "needs_background": "light"
     },
     "output_type": "display_data"
    },
    {
     "data": {
      "image/png": "[encoded data removed]",
      "text/plain": [
       "<Figure size 432x288 with 1 Axes>"
      ]
     },
     "metadata": {
      "needs_background": "light"
     },
     "output_type": "display_data"
    },
    {
     "data": {
      "image/png": "[encoded data removed]",
      "text/plain": [
       "<Figure size 432x288 with 1 Axes>"
      ]
     },
     "metadata": {
      "needs_background": "light"
     },
     "output_type": "display_data"
    }
   ],
   "source": [
    "for i in range(1, 5):\n",
    "    plt.figure()\n",
    "    plt.imshow(WordCloud(background_color='white', prefer_horizontal=1.0)\n",
    "               .fit_words(dict(lda.show_topic(i, 20))))\n",
    "    plt.axis(\"off\")\n",
    "    plt.title(\"Tópico \" + str(i))\n",
    "    plt.show()"
   ]
  },
  {
   "cell_type": "markdown",
   "metadata": {},
   "source": [
    "#### Evaluación del modelo con un artículo de ejemplo ya visto\n",
    "Para ello, escogemos una noticia aleatoriamente para evaluar si los tópicos escogidos por el modelo le representan."
   ]
  },
  {
   "cell_type": "code",
   "execution_count": 62,
   "metadata": {
    "scrolled": true
   },
   "outputs": [
    {
     "name": "stdout",
     "output_type": "stream",
     "text": [
      "Titular: Los intérpretes y traductores reivindican su papel: “España no se ha adaptado a la realidad multicultural de la sociedad”\n",
      "Su aspiración profesional es contribuir a mejorar la visibilidad y el (re)conocimiento de la Traducción e Interpretación en los Servicios Públicos.                   Carmen Cedillo Corrochano es profesora en el Máster Universitario en Comunicación Intercultural, Interpretación y Traducción en los Servicios Públicos en la Universidad de Alcalá. Ha sido galardonada recientemente por la CIUTI, la Asociación Internacional de Universidades de Traducción e Interpretación más prestigiosa y antigua del mundo, por su tesis doctoral ‘La presencia mediática de la Traducción e Interpretación en los Servicios Públicos a través del análisis de discursos en la Red’.                  “Para ser un buen intérprete en los servicios públicos tienes que tener una sensibilidad mayor hacia lo diferente y lo vulnerable. Trabajamos en situaciones difíciles”, sostiene. “Normalmente somos la voz de las malas noticias. Por ejemplo, un diagnóstico médico que debemos comunicar en otro idioma y eso produce un gran impacto emocional”.               Por eso, cuando sus alumnos preguntan en clase por las cualidades de una buena intérprete o traductora en el ámbito de los servicios públicos lo tiene claro. “Ellos piensan que un intérprete nace. Yo creo que el intérprete también se hace porque además del amor por las culturas, la tolerancia, el sentimiento de cariño hacia lo diferente… es necesario el entrenamiento”.                  Esta doctora en Lenguas Modernas, Literatura y Traducción por la Universidad de Alcalá explica que se necesita prudencia y respetar la confidencialidad. “Sobre todo cuando trabajamos con solicitantes de protección internacional. Se trata de personas que solicitan ayuda porque realmente su vida corre peligro. Debes tener absoluta cautela sobre la sociedad que ofreces sobre ellos”.                España es una sociedad multicultural con un gran flujo de migrantes, pero cuando hablamos de la interpretación y la traducción en el ámbito público el abanico de posibles usuarios, nos dice, es más amplio. “Cada año recibimos a millones de turistas y a estudiantes de otros países, de ahí la importancia de este tipo de servicios. Se trata en definitiva de la igualdad de derechos”.                 Lamenta que a veces “no somos conscientes porque en nuestro país accedemos libremente a determinamos servicios. Imagine que estamos en Tailandia y en el aeropuerto un cacheo provoca un malentendido. Imagine que le retienen. O simplemente que nos rompemos una pierna en una playa de Grecia y no podemos entendernos con el médico”. Los problemas seguramente se multipliquen.         “Los intérpretes han jugado un papel importante en la crisis sanitaria”          A la hora de hablar de servicios de Interpretación o Traducción esta especialista distingue entre el ámbito médico-sanitario, el judicial y policial, el administrativo, el educativo y el social.                ¿Cuánto sabemos de la Traducción o la Interpretación? Carmen Cedillo es miembro del grupo de investigación en Traducción e Interpretación en los Servicios Públicos (FITISPos) y cree que el trabajo de estos profesionales es “todavía es muy desconocido”, comenta, para referirse en particular a situaciones que se han hecho patentes con el estallido de la pandemia por la COVID-19.                “Los intérpretes han jugado un papel importante durante la crisis sanitaria. Migrantes, turistas o estudiantes de otros países que se encontraban en España en ese momento han necesitado tener la misma información que el resto de la población en plena pandemia”, señala.                   Sin embargo, nuestro país “va un poco por detrás. España lleva años siendo receptor de migrantes. Sin embargo, no se ha adaptado a la realidad multilingüe y multicultural de la sociedad”.               La profesional toledana cree que los proveedores de servicios públicos como “el personal médico-sanitario o los propios policías piensan equivocadamente que se pueden apañar con el inglés como lengua puente, chapurreando o con gestos. En algunas cosas lo hacen, pero de forma incorrecta”.                Y es que, explica, cuando un ciudadano extranjero accede a los servicios públicos españoles “ha de hacerlo en igualdad de derechos. La necesidad de un traductor o intérprete va a ser siempre alta. Cada vez se configuran sociedades más multiculturales y multilingües”.          Una función más allá de lo lingüístico para “tender puentes culturales”          Habla inglés, francés, italiano y también utiliza la lengua de signos. Pero el trabajo de los intérpretes o traductores no supone solo una herramienta lingüística, aclara. “No solo hablamos idiomas ni hay que saber demasiados, con tres es suficiente. Estamos para tender puentes culturales. No basta con traducir, hay que explicar las realidades del país que no siempre coinciden con las de la persona extranjera”.                Por esta razón dice sorprenderse de “lo poco que se nos tiene en cuenta como profesionales, aunque nuestro cometido sea ser invisibles: ponemos voz, pero no tenemos voz propia”.       “Hay carencias legislativas por todos lados”          Recientemente Carmen Cedillo ha recibido el Premio CIUTI que reconoce la excelencia en la investigación de T&I. Se otorga a la tesis doctoral más destacada realizada en una institución. Todo un estímulo “para una profesión que tiene que ser considerada como tal. Son necesarios los profesionales formados y reglados”.                De hecho, tenía previsto un viaje a París al Congreso Internacional de la CIUTI para compartir las conclusiones más relevantes de su investigación que ha sido aplazado hasta diciembre, si la pandemia no lo impide.               Si hay algo que caracteriza a la profesora e investigadora es su “espíritu reivindicativo”. Explica que “hay carencias legislativas por todos lados, aunque depende del ámbito. El judicial-policial contempla la figura de alguna forma, pero no tanto en el médico-sanitario” cuando se habla de servicios de Traducción o Interpretación.                Uno de los datos que considera “relevante” en su investigación es el tratamiento que los medios dan a la profesión en los servicios públicos. “Lo he estudiado durante 16 años y en este periodo solo se nos menciona cinco veces en tres periódicos españoles”. Por eso aboga por una mayor “visibilidad” en los medios de comunicación. “Es igual de poco relevante en redes sociales”, lamenta.               Entre sus próximos proyectos de investigación prima ahora la parte “más emocional” de la profesión. “A veces trabajamos con situaciones muy duras. Quiero estudiar cómo se puede gestionar mejor el estrés emocional. Al mismo tiempo es un trabajo muy bello y gratificante porque sin nosotros esas situaciones serían todavía más duras”.           Sobre este blog           Espacio de divulgación científica y tecnológica patrocinado por la Universidad de Alcalá (UAH), con el objetivo de acercar el conocimiento y la investigación a la ciudadanía y generar cultura de ciencia          Autores   Etiquetas    /   De Ciencia   /   traducción   /   intérpretes   /   Universidad de Alcalá   /   migrantes   /   COVID-19\n"
     ]
    }
   ],
   "source": [
    "indice_noticia = random.randint(0,len(df))\n",
    "noticia = df.iloc[indice_noticia]\n",
    "print(\"Titular: \" + noticia.Titular)\n",
    "print(noticia.Noticia)"
   ]
  },
  {
   "cell_type": "code",
   "execution_count": 96,
   "metadata": {},
   "outputs": [
    {
     "data": {
      "text/plain": [
       "2716"
      ]
     },
     "execution_count": 96,
     "metadata": {},
     "output_type": "execute_result"
    }
   ],
   "source": [
    "indice_noticia"
   ]
  },
  {
   "cell_type": "markdown",
   "metadata": {},
   "source": [
    "Obtenemos el BOW del artículo y usamos el modelo para obtener la distribución de los tópicos."
   ]
  },
  {
   "cell_type": "code",
   "execution_count": 21,
   "metadata": {
    "scrolled": true
   },
   "outputs": [
    {
     "data": {
      "text/plain": [
       "[(26, 4),\n",
       " (29, 2),\n",
       " (42, 1),\n",
       " (44, 1),\n",
       " (52, 2),\n",
       " (60, 1),\n",
       " (108, 1),\n",
       " (157, 1),\n",
       " (172, 1),\n",
       " (176, 1)]"
      ]
     },
     "execution_count": 21,
     "metadata": {},
     "output_type": "execute_result"
    }
   ],
   "source": [
    "bow_noticia = corpus[indice_noticia]\n",
    "distribucion_noticia = lda[bow_noticia]\n",
    "bow_noticia[0:10]"
   ]
  },
  {
   "cell_type": "markdown",
   "metadata": {},
   "source": [
    "Sacamos los índices y la contribución (proporción) de los tópicos más significativos para nuestro artículo."
   ]
  },
  {
   "cell_type": "code",
   "execution_count": 158,
   "metadata": {},
   "outputs": [],
   "source": [
    "# Indices de los topicos mas significativos\n",
    "dist_indices = [topico[0] for topico in lda[bow_noticia]]\n",
    "# Contribucion de los topicos mas significativos\n",
    "dist_contrib = [topico[1] for topico in lda[bow_noticia]]"
   ]
  },
  {
   "cell_type": "markdown",
   "metadata": {},
   "source": [
    "Mostramos en un gráfico los tópicos más importantes."
   ]
  },
  {
   "cell_type": "code",
   "execution_count": 159,
   "metadata": {
    "scrolled": false
   },
   "outputs": [
    {
     "data": {
      "image/png": "[encoded data removed]",
      "text/plain": [
       "<Figure size 432x288 with 1 Axes>"
      ]
     },
     "metadata": {
      "needs_background": "light"
     },
     "output_type": "display_data"
    }
   ],
   "source": [
    "distribucion_topicos = pd.DataFrame({'Topico':dist_indices,'Contribucion':dist_contrib })\n",
    "distribucion_topicos.sort_values('Contribucion', ascending=False, inplace=True)\n",
    "ax = distribucion_topicos.plot.bar(y='Contribucion',x='Topico', rot=0, color=\"orange\",\n",
    "                                   title = \"Tópicos más importantes para documento nº: \" + str(indice_noticia))"
   ]
  },
  {
   "cell_type": "markdown",
   "metadata": {},
   "source": [
    "Mostramos estos tópicos y sus palabras más significativas."
   ]
  },
  {
   "cell_type": "code",
   "execution_count": 160,
   "metadata": {},
   "outputs": [
    {
     "name": "stdout",
     "output_type": "stream",
     "text": [
      "*** Tópico: 34 ***\n",
      "cantabri, santand, cantabr, miguel, mar, angel, salmeron, menendez, torrelaveg, ceip \n",
      "\n",
      "*** Tópico: 0 ***\n",
      "cas, resident, posit, person, dat, fallec, ultim, centr, nuev, cov \n",
      "\n",
      "*** Tópico: 5 ***\n",
      "educ, centr, alumn, niñ, curs, colegi, profesor, clas, aul, famili \n",
      "\n",
      "*** Tópico: 36 ***\n",
      "guerr, vasc, avion, ejercit, segund, dos, histori, part, mundial, navarr \n",
      "\n",
      "*** Tópico: 30 ***\n",
      "vot, eleccion, electoral, part, alcald, ayunt, candidat, pod, municipal, concejal \n",
      "\n"
     ]
    }
   ],
   "source": [
    "for ind, topico in distribucion_topicos.iterrows():\n",
    "    print(\"*** Tópico: \" + str(int(topico.Topico)) + \" ***\")\n",
    "    palabras = [palabra[0] for palabra in lda.show_topic(topicid=int(topico.Topico))]\n",
    "    palabras = ', '.join(palabras)\n",
    "    print(palabras, \"\\n\")"
   ]
  },
  {
   "cell_type": "markdown",
   "metadata": {},
   "source": [
    "#### Evaluación del modelo con un artículo nuevo"
   ]
  },
  {
   "cell_type": "code",
   "execution_count": 57,
   "metadata": {},
   "outputs": [],
   "source": [
    "texto_articulo = open(\"noticia1.txt\")\n",
    "articulo_nuevo = texto_articulo.read().replace(\"\\n\", \" \")\n",
    "texto_articulo.close()"
   ]
  },
  {
   "cell_type": "markdown",
   "metadata": {},
   "source": [
    "Realizamos el preprocesamiento al texto, al igual que hicimos con el conjunto de artículos."
   ]
  },
  {
   "cell_type": "code",
   "execution_count": 58,
   "metadata": {},
   "outputs": [
    {
     "data": {
      "text/plain": [
       "['cantabri',\n",
       " 'viv',\n",
       " 'año',\n",
       " 'negr',\n",
       " 'refier',\n",
       " 'violenci',\n",
       " 'gener',\n",
       " 'doc',\n",
       " 'mes',\n",
       " 'comun',\n",
       " 'acumul',\n",
       " 'total',\n",
       " 'denunci',\n",
       " 'mujer',\n",
       " 'victim',\n",
       " 'violenci',\n",
       " 'machist',\n",
       " 'año',\n",
       " 'sald',\n",
       " 'dos',\n",
       " 'asesin',\n",
       " 'man',\n",
       " 'parej',\n",
       " 'unas',\n",
       " 'cifr',\n",
       " 'sobrecog',\n",
       " 'marc',\n",
       " 'hoj',\n",
       " 'rut',\n",
       " 'segun',\n",
       " 'reconoc',\n",
       " 'viern',\n",
       " 'portavoz',\n",
       " 'gobiern',\n",
       " 'autonom',\n",
       " 'pabl',\n",
       " 'zuloag',\n",
       " 'present',\n",
       " 'memori',\n",
       " 'anual',\n",
       " 'mal',\n",
       " 'dat',\n",
       " 'par',\n",
       " 'ahi',\n",
       " 'inform',\n",
       " 'recog',\n",
       " 'numer',\n",
       " 'denunci',\n",
       " 'present',\n",
       " 'cantabri',\n",
       " 'año',\n",
       " 'pas',\n",
       " 'supon',\n",
       " 'cifr',\n",
       " 'alta',\n",
       " 'registr',\n",
       " 'ahor',\n",
       " 'dict',\n",
       " 'total',\n",
       " 'orden',\n",
       " 'alej',\n",
       " 'acus',\n",
       " 'conden',\n",
       " 'firm',\n",
       " 'tribunal',\n",
       " 'registr',\n",
       " 'avergüenz',\n",
       " 'socied',\n",
       " 'expres',\n",
       " 'vicepresident',\n",
       " 'cantabri',\n",
       " 'present',\n",
       " 'segun',\n",
       " 'memori',\n",
       " 'centr',\n",
       " 'inform',\n",
       " 'atencion',\n",
       " 'integral',\n",
       " 'gobiern',\n",
       " 'cantabri',\n",
       " 'asesor',\n",
       " 'mujer',\n",
       " 'acud',\n",
       " 'primer',\n",
       " 'vez',\n",
       " 'are',\n",
       " 'mal',\n",
       " 'trat',\n",
       " 'mujer',\n",
       " 'asist',\n",
       " 'menor',\n",
       " 'total',\n",
       " 'person',\n",
       " 'ingres',\n",
       " 'centr',\n",
       " 'emergent',\n",
       " 'cual',\n",
       " 'mujer',\n",
       " 'person',\n",
       " 'dependient',\n",
       " 'ademas',\n",
       " 'centr',\n",
       " 'acog',\n",
       " 'permanec',\n",
       " 'victim',\n",
       " 'mujer',\n",
       " 'person',\n",
       " 'dependient',\n",
       " 'mujer',\n",
       " 'pis',\n",
       " 'tutel',\n",
       " 'acog',\n",
       " 'mujer',\n",
       " 'menor',\n",
       " 'victim',\n",
       " 'violenci',\n",
       " 'gener',\n",
       " 'año',\n",
       " 'maruchi',\n",
       " 'rebec',\n",
       " 'asesin',\n",
       " 'cantabri',\n",
       " 'año',\n",
       " 'cantabr',\n",
       " 'present',\n",
       " 'denunci',\n",
       " 'violenci',\n",
       " 'gener',\n",
       " 'dict',\n",
       " 'orden',\n",
       " 'alej',\n",
       " 'juzg',\n",
       " 'violenci',\n",
       " 'muj',\n",
       " 'conden',\n",
       " 'hombr',\n",
       " 'acus',\n",
       " 'violenci',\n",
       " 'gener',\n",
       " 'resum',\n",
       " 'zuloag',\n",
       " 'cifr',\n",
       " 'sobrecog',\n",
       " 'marc',\n",
       " 'hoj',\n",
       " 'rut',\n",
       " 'insist',\n",
       " 'vicepresident',\n",
       " 'defend',\n",
       " 'administr',\n",
       " 'institu',\n",
       " 'respons',\n",
       " 'afront',\n",
       " 'ret',\n",
       " 'luch',\n",
       " 'violenci',\n",
       " 'gener',\n",
       " 'camin',\n",
       " 'señal',\n",
       " 'avanc',\n",
       " 'import',\n",
       " 'ambit',\n",
       " 'normat',\n",
       " 'aprob',\n",
       " 'ley',\n",
       " 'iguald',\n",
       " 'colabor',\n",
       " 'institu',\n",
       " 'zuloag',\n",
       " 'record',\n",
       " 'gobiern',\n",
       " 'increment',\n",
       " 'recurs',\n",
       " 'asistencial',\n",
       " 'especial',\n",
       " 'entrad',\n",
       " 'funcion',\n",
       " 'part',\n",
       " 'mes',\n",
       " 'juli',\n",
       " 'dos',\n",
       " 'nuev',\n",
       " 'centr',\n",
       " 'atencion',\n",
       " 'integral',\n",
       " 'intensific',\n",
       " 'actuacion',\n",
       " 'formacion',\n",
       " 'sensibiliz',\n",
       " 'med',\n",
       " 'prevencion',\n",
       " 'alert',\n",
       " 'form',\n",
       " 'violenci',\n",
       " 'muj',\n",
       " 'conviv',\n",
       " 'maner',\n",
       " 'ordinari',\n",
       " 'referent',\n",
       " 'prostitu',\n",
       " 'llam',\n",
       " 'despert',\n",
       " 'club',\n",
       " 'pis',\n",
       " 'cantabri',\n",
       " 'esclavitud',\n",
       " 'violenci',\n",
       " 'mujer',\n",
       " 'ademas',\n",
       " 'poc',\n",
       " 'medi',\n",
       " 'defend',\n",
       " 'destac',\n",
       " 'compromis',\n",
       " 'gobiern',\n",
       " 'españ',\n",
       " 'futur',\n",
       " 'ley',\n",
       " 'integral',\n",
       " 'trat',\n",
       " 'confirm',\n",
       " 'ejecut',\n",
       " 'cantabr',\n",
       " 'va',\n",
       " 'segu',\n",
       " 'impuls',\n",
       " 'elabor',\n",
       " 'norm',\n",
       " 'estatal',\n",
       " 'ocho',\n",
       " 'años',\n",
       " 'denunci',\n",
       " 'part',\n",
       " 'director',\n",
       " 'general',\n",
       " 'iguald',\n",
       " 'muj',\n",
       " 'consuel',\n",
       " 'gutierrez',\n",
       " 'aunqu',\n",
       " 'consider',\n",
       " 'posit',\n",
       " 'increment',\n",
       " 'denunci',\n",
       " 'dad',\n",
       " 'supon',\n",
       " 'mayor',\n",
       " 'concienci',\n",
       " 'llam',\n",
       " 'atencion',\n",
       " 'tiemp',\n",
       " 'tard',\n",
       " 'mujer',\n",
       " 'denunci',\n",
       " 'cantabri',\n",
       " 'ocho',\n",
       " 'ocho',\n",
       " 'años',\n",
       " 'señal',\n",
       " 'mujer',\n",
       " 'victim',\n",
       " 'mayor',\n",
       " 'años',\n",
       " 'present',\n",
       " 'period',\n",
       " 'maltrat',\n",
       " 'superior',\n",
       " 'años',\n",
       " 'cas',\n",
       " 'period',\n",
       " 'situ',\n",
       " 'años',\n",
       " 'caus',\n",
       " 'combin',\n",
       " 'llev',\n",
       " 'mujer',\n",
       " 'denunci',\n",
       " 'situacion',\n",
       " 'violenci',\n",
       " 'gener',\n",
       " 'consuel',\n",
       " 'gutierrez',\n",
       " 'cit',\n",
       " 'mied',\n",
       " 'cas',\n",
       " 'vergüenz',\n",
       " 'sensacion',\n",
       " 'pod',\n",
       " 'sal',\n",
       " 'sol',\n",
       " 'situacion',\n",
       " 'maltrat',\n",
       " 'creenci',\n",
       " 'pod',\n",
       " 'cambi',\n",
       " 'revert',\n",
       " 'situacion',\n",
       " 'matern',\n",
       " 'existent',\n",
       " 'menor',\n",
       " 'carg']"
      ]
     },
     "execution_count": 58,
     "metadata": {},
     "output_type": "execute_result"
    }
   ],
   "source": [
    "articulo_nuevo = limpiar_texto(articulo_nuevo)\n",
    "articulo_nuevo = tokenizer.tokenize(articulo_nuevo)\n",
    "articulo_nuevo = filtrar_stopword_digitos(articulo_nuevo)\n",
    "articulo_nuevo = stem_palabras(articulo_nuevo)\n",
    "articulo_nuevo"
   ]
  },
  {
   "cell_type": "markdown",
   "metadata": {},
   "source": [
    "Lo siguiente será pasar el artículo a BOW, obtener los indices y contribucion de los tópicos más importantes y mostrarlos en un gráfico de barras."
   ]
  },
  {
   "cell_type": "code",
   "execution_count": 59,
   "metadata": {},
   "outputs": [],
   "source": [
    "bow_articulo_nuevo = diccionario.doc2bow(articulo_nuevo)"
   ]
  },
  {
   "cell_type": "code",
   "execution_count": 31,
   "metadata": {},
   "outputs": [],
   "source": [
    "# Indices de los topicos mas significativos\n",
    "dist_indices = [topico[0] for topico in lda[bow_articulo_nuevo]]\n",
    "# Contribucion de los topicos mas significativos\n",
    "dist_contrib = [topico[1] for topico in lda[bow_articulo_nuevo]]"
   ]
  },
  {
   "cell_type": "code",
   "execution_count": 32,
   "metadata": {},
   "outputs": [
    {
     "data": {
      "image/png": "[encoded data removed]",
      "text/plain": [
       "<Figure size 432x288 with 1 Axes>"
      ]
     },
     "metadata": {
      "needs_background": "light"
     },
     "output_type": "display_data"
    }
   ],
   "source": [
    "distribucion_topicos = pd.DataFrame({'Topico':dist_indices,'Contribucion':dist_contrib })\n",
    "distribucion_topicos.sort_values('Contribucion', ascending=False, inplace=True)\n",
    "ax = distribucion_topicos.plot.bar(y='Contribucion',x='Topico', rot=0, color=\"green\",\n",
    "                                   title = \"Tópicos más importantes para documento nuevo\")"
   ]
  },
  {
   "cell_type": "code",
   "execution_count": 33,
   "metadata": {},
   "outputs": [
    {
     "name": "stdout",
     "output_type": "stream",
     "text": [
      "*** Tópico: 7 ***\n",
      "mujer, sexual, violenci, gener, hombr, person, muj, femin, victim, iguald \n",
      "\n",
      "*** Tópico: 1 ***\n",
      "gobiern, comun, sanitari, salud, sanid, situacion, med, canari, public, autonom \n",
      "\n",
      "*** Tópico: 49 ***\n",
      "tribunal, fiscal, judicial, justici, derech, delit, suprem, cas, ley, sentenci \n",
      "\n",
      "*** Tópico: 0 ***\n",
      "cas, resident, posit, person, dat, fallec, ultim, nuev, centr, cov \n",
      "\n",
      "*** Tópico: 11 ***\n",
      "años, pas, cas, hac, dos, sal, lleg, dia, trabaj, llev \n",
      "\n",
      "*** Tópico: 34 ***\n",
      "cantabri, santand, cantabr, miguel, mar, angel, salmeron, menendez, torrelaveg, ceip \n",
      "\n",
      "*** Tópico: 41 ***\n",
      "franc, victim, español, españ, memori, civil, muert, polit, derech, iglesi \n",
      "\n",
      "*** Tópico: 35 ***\n",
      "proyect, agu, desarroll, cambi, medi, climat, form, nuev, zon, ciud \n",
      "\n",
      "*** Tópico: 21 ***\n",
      "person, migrant, lleg, inmigr, acog, refugi, fronter, españ, pais, rescat \n",
      "\n",
      "*** Tópico: 23 ***\n",
      "navarr, cataluny, barcelon, catalan, generalitat, torr, govern, foral, independent, cataluñ \n",
      "\n",
      "*** Tópico: 46 ***\n",
      "histori, libr, pelicul, cin, años, vid, mund, nuev, public, personaj \n",
      "\n"
     ]
    }
   ],
   "source": [
    "for ind, topico in distribucion_topicos.iterrows():\n",
    "    print(\"*** Tópico: \" + str(int(topico.Topico)) + \" ***\")\n",
    "    palabras = [palabra[0] for palabra in lda.show_topic(topicid=int(topico.Topico))]\n",
    "    palabras = ', '.join(palabras)\n",
    "    print(palabras, \"\\n\")"
   ]
  },
  {
   "cell_type": "markdown",
   "metadata": {},
   "source": [
    "Guardamos el modelo y el diccionario para usarlos posteriormente con el comando load."
   ]
  },
  {
   "cell_type": "code",
   "execution_count": 242,
   "metadata": {},
   "outputs": [],
   "source": [
    "lda.save(\"articulos.model\")\n",
    "diccionario.save(\"articulos.dictionary\")"
   ]
  }
 ],
 "metadata": {
  "kernelspec": {
   "display_name": "Python 3",
   "language": "python",
   "name": "python3"
  },
  "language_info": {
   "codemirror_mode": {
    "name": "ipython",
    "version": 3
   },
   "file_extension": ".py",
   "mimetype": "text/x-python",
   "name": "python",
   "nbconvert_exporter": "python",
   "pygments_lexer": "ipython3",
   "version": "3.8.3"
  },
  "toc": {
   "base_numbering": 1,
   "nav_menu": {},
   "number_sections": false,
   "sideBar": true,
   "skip_h1_title": false,
   "title_cell": "Table of Contents",
   "title_sidebar": "Contents",
   "toc_cell": false,
   "toc_position": {},
   "toc_section_display": true,
   "toc_window_display": false
  }
 },
 "nbformat": 4,
 "nbformat_minor": 2
}
