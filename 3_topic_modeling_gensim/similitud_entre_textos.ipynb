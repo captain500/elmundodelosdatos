{
 "cells": [
  {
   "cell_type": "markdown",
   "metadata": {},
   "source": [
    "# Tutorial: Introducción al Topic Modeling con Gensim"
   ]
  },
  {
   "cell_type": "markdown",
   "metadata": {},
   "source": [
    "## Parte I: Fundamentos y preprocesamiento"
   ]
  },
  {
   "cell_type": "markdown",
   "metadata": {},
   "source": [
    "#### Importamos las librerías necesarias"
   ]
  },
  {
   "cell_type": "code",
   "execution_count": 1,
   "metadata": {},
   "outputs": [],
   "source": [
    "import json, re\n",
    "import pandas as pd \n",
    "from nltk.corpus import stopwords\n",
    "from nltk.stem import SnowballStemmer\n",
    "from nltk.tokenize import ToktokTokenizer"
   ]
  },
  {
   "cell_type": "markdown",
   "metadata": {},
   "source": [
    "#### Cargamos los datos y creamos un Dataframe con los titulares y las noticias"
   ]
  },
  {
   "cell_type": "code",
   "execution_count": 2,
   "metadata": {
    "scrolled": true
   },
   "outputs": [
    {
     "name": "stdout",
     "output_type": "stream",
     "text": [
      "(5665, 2)\n"
     ]
    },
    {
     "data": {
      "text/html": [
       "<div>\n",
       "<style scoped>\n",
       "    .dataframe tbody tr th:only-of-type {\n",
       "        vertical-align: middle;\n",
       "    }\n",
       "\n",
       "    .dataframe tbody tr th {\n",
       "        vertical-align: top;\n",
       "    }\n",
       "\n",
       "    .dataframe thead th {\n",
       "        text-align: right;\n",
       "    }\n",
       "</style>\n",
       "<table border=\"1\" class=\"dataframe\">\n",
       "  <thead>\n",
       "    <tr style=\"text-align: right;\">\n",
       "      <th></th>\n",
       "      <th>Titular</th>\n",
       "      <th>Noticia</th>\n",
       "    </tr>\n",
       "  </thead>\n",
       "  <tbody>\n",
       "    <tr>\n",
       "      <th>0</th>\n",
       "      <td>Un estudio impulsado por la Universidad de San...</td>\n",
       "      <td>El virus SARS-Cov-2 entró en España por la ciu...</td>\n",
       "    </tr>\n",
       "    <tr>\n",
       "      <th>1</th>\n",
       "      <td>Las claves: qué es Montai y quién está detrás</td>\n",
       "      <td>¿Qué es Montai? ¿Qué relación guarda con las o...</td>\n",
       "    </tr>\n",
       "    <tr>\n",
       "      <th>2</th>\n",
       "      <td>Robots entregan domicilios en Medellín durante...</td>\n",
       "      <td>Unos 15 robots recorren las calles de Medellín...</td>\n",
       "    </tr>\n",
       "    <tr>\n",
       "      <th>3</th>\n",
       "      <td>Grazón insiste en que un nuevo estado de alarm...</td>\n",
       "      <td>En una entrevista en Radio Euskadi, recogida p...</td>\n",
       "    </tr>\n",
       "    <tr>\n",
       "      <th>4</th>\n",
       "      <td>Vox se sube a la ola de la extrema derecha eur...</td>\n",
       "      <td>\"España ha dejado de ser católica\", decía Manu...</td>\n",
       "    </tr>\n",
       "  </tbody>\n",
       "</table>\n",
       "</div>"
      ],
      "text/plain": [
       "                                             Titular  \\\n",
       "0  Un estudio impulsado por la Universidad de San...   \n",
       "1      Las claves: qué es Montai y quién está detrás   \n",
       "2  Robots entregan domicilios en Medellín durante...   \n",
       "3  Grazón insiste en que un nuevo estado de alarm...   \n",
       "4  Vox se sube a la ola de la extrema derecha eur...   \n",
       "\n",
       "                                             Noticia  \n",
       "0  El virus SARS-Cov-2 entró en España por la ciu...  \n",
       "1  ¿Qué es Montai? ¿Qué relación guarda con las o...  \n",
       "2  Unos 15 robots recorren las calles de Medellín...  \n",
       "3  En una entrevista en Radio Euskadi, recogida p...  \n",
       "4  \"España ha dejado de ser católica\", decía Manu...  "
      ]
     },
     "execution_count": 2,
     "metadata": {},
     "output_type": "execute_result"
    }
   ],
   "source": [
    "with open('noticias.txt') as json_file:\n",
    "    datos = json.load(json_file)\n",
    "tuplas = list(zip([noticia.get(\"titular\") for noticia in datos],[noticia.get(\"texto\") for noticia in datos]))\n",
    "df = pd.DataFrame(tuplas, columns =['Titular', 'Noticia'])\n",
    "print(df.shape)\n",
    "df.head()"
   ]
  },
  {
   "cell_type": "markdown",
   "metadata": {},
   "source": [
    "#### Preprocesamiento y limpieza de los textos\n",
    "\n",
    "Creamos un método que se encarge de realizar una limpieza inicial de los texto mediante la eliminación de los caracteres especiales, de las palabras con un solo caracter, convirtiendo a minúsculas los textos, etc."
   ]
  },
  {
   "cell_type": "code",
   "execution_count": 3,
   "metadata": {},
   "outputs": [],
   "source": [
    "def limpiar_texto(texto):\n",
    "    \"\"\"\n",
    "    Función para realizar una limpieza de un texto dado.\n",
    "    \"\"\"\n",
    "    # Eliminamos los caracteres especiales\n",
    "    texto = re.sub(r'\\W', ' ', str(texto))\n",
    "    # Eliminado las palabras que tengo un solo caracter\n",
    "    texto = re.sub(r'\\s+[a-zA-Z]\\s+', ' ', texto)\n",
    "    # Sustituir los espacios en blanco en uno solo\n",
    "    texto = re.sub(r'\\s+', ' ', texto, flags=re.I)\n",
    "    # Convertimos textos a minusculas\n",
    "    texto = texto.lower()\n",
    "    return texto"
   ]
  },
  {
   "cell_type": "markdown",
   "metadata": {},
   "source": [
    "Aplicamos la función a cada noticia"
   ]
  },
  {
   "cell_type": "code",
   "execution_count": 4,
   "metadata": {
    "scrolled": true
   },
   "outputs": [
    {
     "name": "stdout",
     "output_type": "stream",
     "text": [
      "el virus sars cov 2 entró en españa por la ciudad de vitoria en torno al 11 de febrero esa conclusión ha llegado el estudio elaborado por el instituto de investigación sanitaria de santiago de compostela idis que se acaba de publicar en la revista zoogical research los doctores al frente de la investigación aportan otro dato fundamental para entender el avance de la pandemia en nuestro país desde marzo hasta la actualidad se han identificado un total de cinco cepas genéticas del coronavirus las que se responsabiliza del 90 de los contagios producidos en nuestro país los doctores encargados del estudio antonio salas ellacuriaga federico martinón torres han analizado un total de 41 365 genomas de los que 1245 componen la muestra española a2a5 el segundo linaje más importante del virus en españa llegó desde italia en donde surgió su predecesor a2a es esta cepa del virus la que se hizo rápidamente fuerte en madrid según explican los investigadores luego pudo ser exportada otros lugares del mundo como inglaterra sudamérica b3a el primer linaje español el presente estudio es una continuación del proyecto previo del mismo grupo donde los autores descubrieron la importancia de los supercontagiadores como gran motor de la pandemia esta vez los científicos centraron sus esfuerzos en comprender la dinámica de transmisión en españa según el trabajo existen cinco linajes principales que explican casi el 90 de todos los incidentes en la base de datos de genomas a2a5 38 4 b3a 30 1 b9 8 7 a2a4 7 8 a2a10 2 8 mediante una combinación de análisis evolutivos matemáticos que tienen en cuenta no solo la cronología de los genomas sino también sus patrones de variación genómica fuimos capaces de reconstruir el origen más probable de estos linajes dentro fuera de españa explica antonio salas el estudio constata que mientras que b3a b9 el sublinaje a2a5 surgieron en españa a2a5 a2a4 a2a10 fueron importados de otros países de europa un aspecto distintivo del sars cov 2 en españa es la frecuencia tan elevada de genomas pertenecientes la cepa 39 3 mayoritariamente representadas por las sub cepas b3a b9 hicimos una investigación al más puro estilo policial aunando la información que procede de distintas fuentes básicamente evolutivas geoespaciales cronológicas filogeografía con la gran base de datos internacional de genomas utilizada en el estudio añade salas en relación con el linaje b3a a la luz de los datos existentes en los genomas que componen la muestra el estudio concluye que el país vasco es la zona más probable para albergar su origen por otro lado a2a5 el segundo linaje más importante en españa muy probablemente se originó en italia otro de los grandes epicentros no asiático en la expansión del coronavirus afirman salas martinón agencia sinc tasa de cambio del virus de los 41 362 genomas del coronavirus el grupo detectó 19 968 secuencias diferentes hoy es imposible reconocer si entre los más de 14 000 cambios genéticos detectados existe alguno que pudiera tener implicación en la eficacia de las futuras vacunas en los posibles tratamientos aunque sí es más predecible su impacto sobre los métodos de diagnóstico apunta salas según martinón es esencial estar atentos por las implicaciones nuestro sistema de clasificación puede ser una herramienta clave formar parte de las medidas de vigilancia activa de variabilidad del virus el estudio impulsado por la universidade de santiago pretende descifrar el comportamiento del coronavirus en nuestro país al considerar que españa fue uno de los principales grandes focos mundiales de la primera ola de la pandemia la investigación es la mayor llevada cabo de manera global en relación con la variabilidad genómica del sars cov 2 en el mundo el primero en explorar la variación genética en españa etiquetas galicia euskadi\n"
     ]
    },
    {
     "data": {
      "text/html": [
       "<div>\n",
       "<style scoped>\n",
       "    .dataframe tbody tr th:only-of-type {\n",
       "        vertical-align: middle;\n",
       "    }\n",
       "\n",
       "    .dataframe tbody tr th {\n",
       "        vertical-align: top;\n",
       "    }\n",
       "\n",
       "    .dataframe thead th {\n",
       "        text-align: right;\n",
       "    }\n",
       "</style>\n",
       "<table border=\"1\" class=\"dataframe\">\n",
       "  <thead>\n",
       "    <tr style=\"text-align: right;\">\n",
       "      <th></th>\n",
       "      <th>Titular</th>\n",
       "      <th>Noticia</th>\n",
       "      <th>Tokens</th>\n",
       "    </tr>\n",
       "  </thead>\n",
       "  <tbody>\n",
       "    <tr>\n",
       "      <th>0</th>\n",
       "      <td>Un estudio impulsado por la Universidad de San...</td>\n",
       "      <td>El virus SARS-Cov-2 entró en España por la ciu...</td>\n",
       "      <td>el virus sars cov 2 entró en españa por la ciu...</td>\n",
       "    </tr>\n",
       "    <tr>\n",
       "      <th>1</th>\n",
       "      <td>Las claves: qué es Montai y quién está detrás</td>\n",
       "      <td>¿Qué es Montai? ¿Qué relación guarda con las o...</td>\n",
       "      <td>qué es montai qué relación guarda con las otr...</td>\n",
       "    </tr>\n",
       "    <tr>\n",
       "      <th>2</th>\n",
       "      <td>Robots entregan domicilios en Medellín durante...</td>\n",
       "      <td>Unos 15 robots recorren las calles de Medellín...</td>\n",
       "      <td>unos 15 robots recorren las calles de medellín...</td>\n",
       "    </tr>\n",
       "    <tr>\n",
       "      <th>3</th>\n",
       "      <td>Grazón insiste en que un nuevo estado de alarm...</td>\n",
       "      <td>En una entrevista en Radio Euskadi, recogida p...</td>\n",
       "      <td>en una entrevista en radio euskadi recogida po...</td>\n",
       "    </tr>\n",
       "    <tr>\n",
       "      <th>4</th>\n",
       "      <td>Vox se sube a la ola de la extrema derecha eur...</td>\n",
       "      <td>\"España ha dejado de ser católica\", decía Manu...</td>\n",
       "      <td>españa ha dejado de ser católica decía manuel...</td>\n",
       "    </tr>\n",
       "  </tbody>\n",
       "</table>\n",
       "</div>"
      ],
      "text/plain": [
       "                                             Titular  \\\n",
       "0  Un estudio impulsado por la Universidad de San...   \n",
       "1      Las claves: qué es Montai y quién está detrás   \n",
       "2  Robots entregan domicilios en Medellín durante...   \n",
       "3  Grazón insiste en que un nuevo estado de alarm...   \n",
       "4  Vox se sube a la ola de la extrema derecha eur...   \n",
       "\n",
       "                                             Noticia  \\\n",
       "0  El virus SARS-Cov-2 entró en España por la ciu...   \n",
       "1  ¿Qué es Montai? ¿Qué relación guarda con las o...   \n",
       "2  Unos 15 robots recorren las calles de Medellín...   \n",
       "3  En una entrevista en Radio Euskadi, recogida p...   \n",
       "4  \"España ha dejado de ser católica\", decía Manu...   \n",
       "\n",
       "                                              Tokens  \n",
       "0  el virus sars cov 2 entró en españa por la ciu...  \n",
       "1   qué es montai qué relación guarda con las otr...  \n",
       "2  unos 15 robots recorren las calles de medellín...  \n",
       "3  en una entrevista en radio euskadi recogida po...  \n",
       "4   españa ha dejado de ser católica decía manuel...  "
      ]
     },
     "execution_count": 4,
     "metadata": {},
     "output_type": "execute_result"
    }
   ],
   "source": [
    "df[\"Tokens\"] = df.Noticia.apply(limpiar_texto)\n",
    "print(df.Tokens[0])\n",
    "df.head()"
   ]
  },
  {
   "cell_type": "markdown",
   "metadata": {},
   "source": [
    "Realizo la tokenización para dividir los textos en palabras individuales. "
   ]
  },
  {
   "cell_type": "code",
   "execution_count": 5,
   "metadata": {
    "scrolled": true
   },
   "outputs": [
    {
     "name": "stdout",
     "output_type": "stream",
     "text": [
      "['el', 'virus', 'sars', 'cov', '2', 'entró', 'en', 'españa', 'por', 'la', 'ciudad', 'de', 'vitoria', 'en', 'torno', 'al', '11', 'de', 'febrero', 'esa', 'conclusión', 'ha', 'llegado', 'el', 'estudio', 'elaborado', 'por', 'el', 'instituto', 'de', 'investigación', 'sanitaria', 'de', 'santiago', 'de', 'compostela', 'idis', 'que', 'se', 'acaba', 'de', 'publicar', 'en', 'la', 'revista', 'zoogical', 'research', 'los', 'doctores', 'al', 'frente', 'de', 'la', 'investigación', 'aportan', 'otro', 'dato', 'fundamental', 'para', 'entender', 'el', 'avance', 'de', 'la', 'pandemia', 'en', 'nuestro', 'país', 'desde', 'marzo', 'hasta', 'la', 'actualidad', 'se', 'han', 'identificado', 'un', 'total', 'de', 'cinco', 'cepas', 'genéticas', 'del', 'coronavirus', 'las', 'que', 'se', 'responsabiliza', 'del', '90', 'de', 'los', 'contagios', 'producidos', 'en', 'nuestro', 'país', 'los', 'doctores', 'encargados', 'del', 'estudio', 'antonio', 'salas', 'ellacuriaga', 'federico', 'martinón', 'torres', 'han', 'analizado', 'un', 'total', 'de', '41', '365', 'genomas', 'de', 'los', 'que', '1245', 'componen', 'la', 'muestra', 'española', 'a2a5', 'el', 'segundo', 'linaje', 'más', 'importante', 'del', 'virus', 'en', 'españa', 'llegó', 'desde', 'italia', 'en', 'donde', 'surgió', 'su', 'predecesor', 'a2a', 'es', 'esta', 'cepa', 'del', 'virus', 'la', 'que', 'se', 'hizo', 'rápidamente', 'fuerte', 'en', 'madrid', 'según', 'explican', 'los', 'investigadores', 'luego', 'pudo', 'ser', 'exportada', 'otros', 'lugares', 'del', 'mundo', 'como', 'inglaterra', 'sudamérica', 'b3a', 'el', 'primer', 'linaje', 'español', 'el', 'presente', 'estudio', 'es', 'una', 'continuación', 'del', 'proyecto', 'previo', 'del', 'mismo', 'grupo', 'donde', 'los', 'autores', 'descubrieron', 'la', 'importancia', 'de', 'los', 'supercontagiadores', 'como', 'gran', 'motor', 'de', 'la', 'pandemia', 'esta', 'vez', 'los', 'científicos', 'centraron', 'sus', 'esfuerzos', 'en', 'comprender', 'la', 'dinámica', 'de', 'transmisión', 'en', 'españa', 'según', 'el', 'trabajo', 'existen', 'cinco', 'linajes', 'principales', 'que', 'explican', 'casi', 'el', '90', 'de', 'todos', 'los', 'incidentes', 'en', 'la', 'base', 'de', 'datos', 'de', 'genomas', 'a2a5', '38', '4', 'b3a', '30', '1', 'b9', '8', '7', 'a2a4', '7', '8', 'a2a10', '2', '8', 'mediante', 'una', 'combinación', 'de', 'análisis', 'evolutivos', 'matemáticos', 'que', 'tienen', 'en', 'cuenta', 'no', 'solo', 'la', 'cronología', 'de', 'los', 'genomas', 'sino', 'también', 'sus', 'patrones', 'de', 'variación', 'genómica', 'fuimos', 'capaces', 'de', 'reconstruir', 'el', 'origen', 'más', 'probable', 'de', 'estos', 'linajes', 'dentro', 'fuera', 'de', 'españa', 'explica', 'antonio', 'salas', 'el', 'estudio', 'constata', 'que', 'mientras', 'que', 'b3a', 'b9', 'el', 'sublinaje', 'a2a5', 'surgieron', 'en', 'españa', 'a2a5', 'a2a4', 'a2a10', 'fueron', 'importados', 'de', 'otros', 'países', 'de', 'europa', 'un', 'aspecto', 'distintivo', 'del', 'sars', 'cov', '2', 'en', 'españa', 'es', 'la', 'frecuencia', 'tan', 'elevada', 'de', 'genomas', 'pertenecientes', 'la', 'cepa', '39', '3', 'mayoritariamente', 'representadas', 'por', 'las', 'sub', 'cepas', 'b3a', 'b9', 'hicimos', 'una', 'investigación', 'al', 'más', 'puro', 'estilo', 'policial', 'aunando', 'la', 'información', 'que', 'procede', 'de', 'distintas', 'fuentes', 'básicamente', 'evolutivas', 'geoespaciales', 'cronológicas', 'filogeografía', 'con', 'la', 'gran', 'base', 'de', 'datos', 'internacional', 'de', 'genomas', 'utilizada', 'en', 'el', 'estudio', 'añade', 'salas', 'en', 'relación', 'con', 'el', 'linaje', 'b3a', 'a', 'la', 'luz', 'de', 'los', 'datos', 'existentes', 'en', 'los', 'genomas', 'que', 'componen', 'la', 'muestra', 'el', 'estudio', 'concluye', 'que', 'el', 'país', 'vasco', 'es', 'la', 'zona', 'más', 'probable', 'para', 'albergar', 'su', 'origen', 'por', 'otro', 'lado', 'a2a5', 'el', 'segundo', 'linaje', 'más', 'importante', 'en', 'españa', 'muy', 'probablemente', 'se', 'originó', 'en', 'italia', 'otro', 'de', 'los', 'grandes', 'epicentros', 'no', 'asiático', 'en', 'la', 'expansión', 'del', 'coronavirus', 'afirman', 'salas', 'martinón', 'agencia', 'sinc', 'tasa', 'de', 'cambio', 'del', 'virus', 'de', 'los', '41', '362', 'genomas', 'del', 'coronavirus', 'el', 'grupo', 'detectó', '19', '968', 'secuencias', 'diferentes', 'hoy', 'es', 'imposible', 'reconocer', 'si', 'entre', 'los', 'más', 'de', '14', '000', 'cambios', 'genéticos', 'detectados', 'existe', 'alguno', 'que', 'pudiera', 'tener', 'implicación', 'en', 'la', 'eficacia', 'de', 'las', 'futuras', 'vacunas', 'en', 'los', 'posibles', 'tratamientos', 'aunque', 'sí', 'es', 'más', 'predecible', 'su', 'impacto', 'sobre', 'los', 'métodos', 'de', 'diagnóstico', 'apunta', 'salas', 'según', 'martinón', 'es', 'esencial', 'estar', 'atentos', 'por', 'las', 'implicaciones', 'nuestro', 'sistema', 'de', 'clasificación', 'puede', 'ser', 'una', 'herramienta', 'clave', 'formar', 'parte', 'de', 'las', 'medidas', 'de', 'vigilancia', 'activa', 'de', 'variabilidad', 'del', 'virus', 'el', 'estudio', 'impulsado', 'por', 'la', 'universidade', 'de', 'santiago', 'pretende', 'descifrar', 'el', 'comportamiento', 'del', 'coronavirus', 'en', 'nuestro', 'país', 'al', 'considerar', 'que', 'españa', 'fue', 'uno', 'de', 'los', 'principales', 'grandes', 'focos', 'mundiales', 'de', 'la', 'primera', 'ola', 'de', 'la', 'pandemia', 'la', 'investigación', 'es', 'la', 'mayor', 'llevada', 'cabo', 'de', 'manera', 'global', 'en', 'relación', 'con', 'la', 'variabilidad', 'genómica', 'del', 'sars', 'cov', '2', 'en', 'el', 'mundo', 'el', 'primero', 'en', 'explorar', 'la', 'variación', 'genética', 'en', 'españa', 'etiquetas', 'galicia', 'euskadi']\n"
     ]
    },
    {
     "data": {
      "text/html": [
       "<div>\n",
       "<style scoped>\n",
       "    .dataframe tbody tr th:only-of-type {\n",
       "        vertical-align: middle;\n",
       "    }\n",
       "\n",
       "    .dataframe tbody tr th {\n",
       "        vertical-align: top;\n",
       "    }\n",
       "\n",
       "    .dataframe thead th {\n",
       "        text-align: right;\n",
       "    }\n",
       "</style>\n",
       "<table border=\"1\" class=\"dataframe\">\n",
       "  <thead>\n",
       "    <tr style=\"text-align: right;\">\n",
       "      <th></th>\n",
       "      <th>Titular</th>\n",
       "      <th>Noticia</th>\n",
       "      <th>Tokens</th>\n",
       "    </tr>\n",
       "  </thead>\n",
       "  <tbody>\n",
       "    <tr>\n",
       "      <th>0</th>\n",
       "      <td>Un estudio impulsado por la Universidad de San...</td>\n",
       "      <td>El virus SARS-Cov-2 entró en España por la ciu...</td>\n",
       "      <td>[el, virus, sars, cov, 2, entró, en, españa, p...</td>\n",
       "    </tr>\n",
       "    <tr>\n",
       "      <th>1</th>\n",
       "      <td>Las claves: qué es Montai y quién está detrás</td>\n",
       "      <td>¿Qué es Montai? ¿Qué relación guarda con las o...</td>\n",
       "      <td>[qué, es, montai, qué, relación, guarda, con, ...</td>\n",
       "    </tr>\n",
       "    <tr>\n",
       "      <th>2</th>\n",
       "      <td>Robots entregan domicilios en Medellín durante...</td>\n",
       "      <td>Unos 15 robots recorren las calles de Medellín...</td>\n",
       "      <td>[unos, 15, robots, recorren, las, calles, de, ...</td>\n",
       "    </tr>\n",
       "    <tr>\n",
       "      <th>3</th>\n",
       "      <td>Grazón insiste en que un nuevo estado de alarm...</td>\n",
       "      <td>En una entrevista en Radio Euskadi, recogida p...</td>\n",
       "      <td>[en, una, entrevista, en, radio, euskadi, reco...</td>\n",
       "    </tr>\n",
       "    <tr>\n",
       "      <th>4</th>\n",
       "      <td>Vox se sube a la ola de la extrema derecha eur...</td>\n",
       "      <td>\"España ha dejado de ser católica\", decía Manu...</td>\n",
       "      <td>[españa, ha, dejado, de, ser, católica, decía,...</td>\n",
       "    </tr>\n",
       "  </tbody>\n",
       "</table>\n",
       "</div>"
      ],
      "text/plain": [
       "                                             Titular  \\\n",
       "0  Un estudio impulsado por la Universidad de San...   \n",
       "1      Las claves: qué es Montai y quién está detrás   \n",
       "2  Robots entregan domicilios en Medellín durante...   \n",
       "3  Grazón insiste en que un nuevo estado de alarm...   \n",
       "4  Vox se sube a la ola de la extrema derecha eur...   \n",
       "\n",
       "                                             Noticia  \\\n",
       "0  El virus SARS-Cov-2 entró en España por la ciu...   \n",
       "1  ¿Qué es Montai? ¿Qué relación guarda con las o...   \n",
       "2  Unos 15 robots recorren las calles de Medellín...   \n",
       "3  En una entrevista en Radio Euskadi, recogida p...   \n",
       "4  \"España ha dejado de ser católica\", decía Manu...   \n",
       "\n",
       "                                              Tokens  \n",
       "0  [el, virus, sars, cov, 2, entró, en, españa, p...  \n",
       "1  [qué, es, montai, qué, relación, guarda, con, ...  \n",
       "2  [unos, 15, robots, recorren, las, calles, de, ...  \n",
       "3  [en, una, entrevista, en, radio, euskadi, reco...  \n",
       "4  [españa, ha, dejado, de, ser, católica, decía,...  "
      ]
     },
     "execution_count": 5,
     "metadata": {},
     "output_type": "execute_result"
    }
   ],
   "source": [
    "tokenizer = ToktokTokenizer() \n",
    "df[\"Tokens\"] = df.Tokens.apply(tokenizer.tokenize)\n",
    "print(df.Tokens[0])\n",
    "df.head()"
   ]
  },
  {
   "cell_type": "markdown",
   "metadata": {},
   "source": [
    "Filtro las stopwords y los dígitos."
   ]
  },
  {
   "cell_type": "code",
   "execution_count": 6,
   "metadata": {},
   "outputs": [
    {
     "data": {
      "text/html": [
       "<div>\n",
       "<style scoped>\n",
       "    .dataframe tbody tr th:only-of-type {\n",
       "        vertical-align: middle;\n",
       "    }\n",
       "\n",
       "    .dataframe tbody tr th {\n",
       "        vertical-align: top;\n",
       "    }\n",
       "\n",
       "    .dataframe thead th {\n",
       "        text-align: right;\n",
       "    }\n",
       "</style>\n",
       "<table border=\"1\" class=\"dataframe\">\n",
       "  <thead>\n",
       "    <tr style=\"text-align: right;\">\n",
       "      <th></th>\n",
       "      <th>Titular</th>\n",
       "      <th>Noticia</th>\n",
       "      <th>Tokens</th>\n",
       "    </tr>\n",
       "  </thead>\n",
       "  <tbody>\n",
       "    <tr>\n",
       "      <th>0</th>\n",
       "      <td>Un estudio impulsado por la Universidad de San...</td>\n",
       "      <td>El virus SARS-Cov-2 entró en España por la ciu...</td>\n",
       "      <td>[virus, sars, cov, entró, españa, ciudad, vito...</td>\n",
       "    </tr>\n",
       "    <tr>\n",
       "      <th>1</th>\n",
       "      <td>Las claves: qué es Montai y quién está detrás</td>\n",
       "      <td>¿Qué es Montai? ¿Qué relación guarda con las o...</td>\n",
       "      <td>[montai, relación, guarda, empresas, quién, de...</td>\n",
       "    </tr>\n",
       "    <tr>\n",
       "      <th>2</th>\n",
       "      <td>Robots entregan domicilios en Medellín durante...</td>\n",
       "      <td>Unos 15 robots recorren las calles de Medellín...</td>\n",
       "      <td>[robots, recorren, calles, medellín, realizar,...</td>\n",
       "    </tr>\n",
       "    <tr>\n",
       "      <th>3</th>\n",
       "      <td>Grazón insiste en que un nuevo estado de alarm...</td>\n",
       "      <td>En una entrevista en Radio Euskadi, recogida p...</td>\n",
       "      <td>[entrevista, radio, euskadi, recogida, europa,...</td>\n",
       "    </tr>\n",
       "    <tr>\n",
       "      <th>4</th>\n",
       "      <td>Vox se sube a la ola de la extrema derecha eur...</td>\n",
       "      <td>\"España ha dejado de ser católica\", decía Manu...</td>\n",
       "      <td>[españa, dejado, ser, católica, decía, manuel,...</td>\n",
       "    </tr>\n",
       "  </tbody>\n",
       "</table>\n",
       "</div>"
      ],
      "text/plain": [
       "                                             Titular  \\\n",
       "0  Un estudio impulsado por la Universidad de San...   \n",
       "1      Las claves: qué es Montai y quién está detrás   \n",
       "2  Robots entregan domicilios en Medellín durante...   \n",
       "3  Grazón insiste en que un nuevo estado de alarm...   \n",
       "4  Vox se sube a la ola de la extrema derecha eur...   \n",
       "\n",
       "                                             Noticia  \\\n",
       "0  El virus SARS-Cov-2 entró en España por la ciu...   \n",
       "1  ¿Qué es Montai? ¿Qué relación guarda con las o...   \n",
       "2  Unos 15 robots recorren las calles de Medellín...   \n",
       "3  En una entrevista en Radio Euskadi, recogida p...   \n",
       "4  \"España ha dejado de ser católica\", decía Manu...   \n",
       "\n",
       "                                              Tokens  \n",
       "0  [virus, sars, cov, entró, españa, ciudad, vito...  \n",
       "1  [montai, relación, guarda, empresas, quién, de...  \n",
       "2  [robots, recorren, calles, medellín, realizar,...  \n",
       "3  [entrevista, radio, euskadi, recogida, europa,...  \n",
       "4  [españa, dejado, ser, católica, decía, manuel,...  "
      ]
     },
     "execution_count": 6,
     "metadata": {},
     "output_type": "execute_result"
    }
   ],
   "source": [
    "STOPWORDS = set(stopwords.words(\"spanish\"))\n",
    "\n",
    "def filtrar_stopword_digitos(tokens):\n",
    "    \"\"\"\n",
    "    Filtra stopwords y digitos de una lista de tokens.\n",
    "    \"\"\"\n",
    "    return [token for token in tokens if token not in STOPWORDS and not token.isdigit()]\n",
    "\n",
    "df[\"Tokens\"] = df.Tokens.apply(filtrar_stopword_digitos)\n",
    "\n",
    "df.head()"
   ]
  },
  {
   "cell_type": "markdown",
   "metadata": {},
   "source": [
    "Finalmente, reducimos cada palabra a su raíz mediante el proceso de stemming. "
   ]
  },
  {
   "cell_type": "code",
   "execution_count": 7,
   "metadata": {},
   "outputs": [
    {
     "data": {
      "text/html": [
       "<div>\n",
       "<style scoped>\n",
       "    .dataframe tbody tr th:only-of-type {\n",
       "        vertical-align: middle;\n",
       "    }\n",
       "\n",
       "    .dataframe tbody tr th {\n",
       "        vertical-align: top;\n",
       "    }\n",
       "\n",
       "    .dataframe thead th {\n",
       "        text-align: right;\n",
       "    }\n",
       "</style>\n",
       "<table border=\"1\" class=\"dataframe\">\n",
       "  <thead>\n",
       "    <tr style=\"text-align: right;\">\n",
       "      <th></th>\n",
       "      <th>Titular</th>\n",
       "      <th>Noticia</th>\n",
       "      <th>Tokens</th>\n",
       "    </tr>\n",
       "  </thead>\n",
       "  <tbody>\n",
       "    <tr>\n",
       "      <th>0</th>\n",
       "      <td>Un estudio impulsado por la Universidad de San...</td>\n",
       "      <td>El virus SARS-Cov-2 entró en España por la ciu...</td>\n",
       "      <td>[virus, sars, cov, entro, españ, ciud, vitori,...</td>\n",
       "    </tr>\n",
       "    <tr>\n",
       "      <th>1</th>\n",
       "      <td>Las claves: qué es Montai y quién está detrás</td>\n",
       "      <td>¿Qué es Montai? ¿Qué relación guarda con las o...</td>\n",
       "      <td>[montai, relacion, guard, empres, quien, detra...</td>\n",
       "    </tr>\n",
       "    <tr>\n",
       "      <th>2</th>\n",
       "      <td>Robots entregan domicilios en Medellín durante...</td>\n",
       "      <td>Unos 15 robots recorren las calles de Medellín...</td>\n",
       "      <td>[robots, recorr, call, medellin, realiz, entre...</td>\n",
       "    </tr>\n",
       "    <tr>\n",
       "      <th>3</th>\n",
       "      <td>Grazón insiste en que un nuevo estado de alarm...</td>\n",
       "      <td>En una entrevista en Radio Euskadi, recogida p...</td>\n",
       "      <td>[entrev, radi, euskadi, recog, europ, press, g...</td>\n",
       "    </tr>\n",
       "    <tr>\n",
       "      <th>4</th>\n",
       "      <td>Vox se sube a la ola de la extrema derecha eur...</td>\n",
       "      <td>\"España ha dejado de ser católica\", decía Manu...</td>\n",
       "      <td>[españ, dej, ser, catol, dec, manuel, azañ, co...</td>\n",
       "    </tr>\n",
       "  </tbody>\n",
       "</table>\n",
       "</div>"
      ],
      "text/plain": [
       "                                             Titular  \\\n",
       "0  Un estudio impulsado por la Universidad de San...   \n",
       "1      Las claves: qué es Montai y quién está detrás   \n",
       "2  Robots entregan domicilios en Medellín durante...   \n",
       "3  Grazón insiste en que un nuevo estado de alarm...   \n",
       "4  Vox se sube a la ola de la extrema derecha eur...   \n",
       "\n",
       "                                             Noticia  \\\n",
       "0  El virus SARS-Cov-2 entró en España por la ciu...   \n",
       "1  ¿Qué es Montai? ¿Qué relación guarda con las o...   \n",
       "2  Unos 15 robots recorren las calles de Medellín...   \n",
       "3  En una entrevista en Radio Euskadi, recogida p...   \n",
       "4  \"España ha dejado de ser católica\", decía Manu...   \n",
       "\n",
       "                                              Tokens  \n",
       "0  [virus, sars, cov, entro, españ, ciud, vitori,...  \n",
       "1  [montai, relacion, guard, empres, quien, detra...  \n",
       "2  [robots, recorr, call, medellin, realiz, entre...  \n",
       "3  [entrev, radi, euskadi, recog, europ, press, g...  \n",
       "4  [españ, dej, ser, catol, dec, manuel, azañ, co...  "
      ]
     },
     "execution_count": 7,
     "metadata": {},
     "output_type": "execute_result"
    }
   ],
   "source": [
    "stemmer = SnowballStemmer(\"spanish\")\n",
    "\n",
    "def stem_palabras(tokens):\n",
    "    \"\"\"\n",
    "    Reduce cada palabra de una lista dada a su raíz.\n",
    "    \"\"\"\n",
    "    return [stemmer.stem(token) for token in tokens]\n",
    "\n",
    "df[\"Tokens\"] = df.Tokens.apply(stem_palabras)\n",
    "\n",
    "df.head()"
   ]
  },
  {
   "cell_type": "markdown",
   "metadata": {},
   "source": [
    "## Parte II: Asignación de tópicos"
   ]
  },
  {
   "cell_type": "markdown",
   "metadata": {},
   "source": [
    "#### Importamos las librerías necesarias"
   ]
  },
  {
   "cell_type": "code",
   "execution_count": 8,
   "metadata": {},
   "outputs": [],
   "source": [
    "from gensim.corpora import Dictionary\n",
    "from gensim.models import LdaModel\n",
    "import random\n",
    "import numpy as np\n",
    "import matplotlib.pyplot as plt\n",
    "from wordcloud import WordCloud\n",
    "%matplotlib inline"
   ]
  },
  {
   "cell_type": "markdown",
   "metadata": {},
   "source": [
    "#### Creamos el diccionario necesario para el modelo LDA\n",
    "Para ello le pasamos las listas con los tokens."
   ]
  },
  {
   "cell_type": "code",
   "execution_count": 9,
   "metadata": {},
   "outputs": [
    {
     "name": "stdout",
     "output_type": "stream",
     "text": [
      "Número de tokens: 47388\n"
     ]
    }
   ],
   "source": [
    "diccionario = Dictionary(df.Tokens)\n",
    "print(f'Número de tokens: {len(diccionario)}')"
   ]
  },
  {
   "cell_type": "markdown",
   "metadata": {},
   "source": [
    "Con filter_extremes mantenemos únicamentos los tokens que están mantenidos en al menos no_below documentos y los que están contenidos en no mas de no_above documentos. En este último caso le indicamos una fracción del tamaño del corpus."
   ]
  },
  {
   "cell_type": "code",
   "execution_count": 10,
   "metadata": {},
   "outputs": [
    {
     "name": "stdout",
     "output_type": "stream",
     "text": [
      "Número de tokens: 25522\n"
     ]
    }
   ],
   "source": [
    "diccionario.filter_extremes(no_below=2, no_above = 0.8)\n",
    "print(f'Número de tokens: {len(diccionario)}')"
   ]
  },
  {
   "cell_type": "markdown",
   "metadata": {},
   "source": [
    "Transformamos cada articulo en una representación vectorial (bolsa de palabras o BOW) con su frecuencia de aparición, para que nos sirva como entrada para el modelo LDA."
   ]
  },
  {
   "cell_type": "code",
   "execution_count": 12,
   "metadata": {},
   "outputs": [
    {
     "name": "stdout",
     "output_type": "stream",
     "text": [
      "[(3, 1), (25, 1), (26, 6), (29, 1), (40, 1), (41, 3), (44, 1), (48, 7), (52, 2), (67, 1), (68, 1), (77, 1), (86, 1), (94, 1), (96, 1), (108, 4), (116, 1), (118, 1), (121, 1), (131, 2), (146, 2), (149, 2), (164, 1), (172, 1), (176, 2), (178, 1), (193, 1), (204, 1), (210, 1), (222, 1), (235, 3), (236, 4), (238, 1), (245, 1), (268, 1), (276, 1), (283, 1), (295, 1), (299, 1), (311, 3), (312, 2), (339, 1), (349, 1), (367, 11), (372, 1), (394, 12), (407, 1), (413, 1), (431, 1), (436, 2), (439, 1), (440, 1), (450, 1), (454, 2), (462, 2), (475, 3), (478, 2), (492, 1), (498, 1), (502, 2), (513, 2), (525, 1), (531, 3), (549, 1), (561, 1), (574, 1), (587, 2), (615, 1), (631, 1), (640, 1), (650, 3), (653, 2), (656, 1), (660, 1), (677, 1), (680, 1), (683, 1), (684, 1), (686, 2), (694, 1), (732, 1), (784, 2), (793, 2), (794, 1), (804, 2), (817, 3), (830, 1), (839, 1), (840, 1), (842, 1), (852, 1), (866, 2), (913, 1), (915, 1), (917, 2), (921, 2), (933, 1), (958, 1), (1055, 1), (1057, 1), (1060, 1), (1073, 1), (1122, 1), (1140, 1), (1141, 1), (1142, 1), (1143, 1), (1144, 1), (1145, 1), (1146, 1), (1147, 1), (1148, 1), (1149, 1), (1150, 6), (1151, 1), (1152, 1), (1153, 1), (1154, 13), (1155, 1), (1156, 1), (1157, 1), (1158, 3), (1159, 1), (1160, 1), (1161, 1), (1162, 1), (1163, 1), (1164, 1), (1165, 1), (1166, 2), (1167, 3), (1168, 1), (1169, 1), (1170, 1), (1171, 1), (1172, 1), (1173, 1), (1174, 1), (1175, 1), (1176, 2), (1177, 2), (1178, 1), (1179, 1), (1180, 1), (1181, 1), (1182, 1), (1183, 1), (1184, 1), (1185, 1), (1186, 1), (1187, 1), (1188, 1), (1189, 1), (1190, 1), (1191, 1), (1192, 1), (1193, 1), (1194, 1), (1195, 1), (1196, 1), (1197, 2), (1198, 1), (1199, 1), (1200, 1), (1201, 1), (1202, 1), (1203, 2), (1204, 3), (1205, 1), (1206, 1), (1207, 1), (1208, 1), (1209, 1), (1210, 2), (1211, 1), (1212, 1), (1213, 1), (1214, 1), (1215, 10), (1216, 1), (1217, 1), (1218, 1), (1219, 1), (1220, 1), (1221, 1), (1222, 1), (1223, 1), (1224, 1), (1225, 1), (1226, 3), (1227, 1), (1228, 2), (1229, 1), (1230, 3)]\n"
     ]
    }
   ],
   "source": [
    "corpus = [diccionario.doc2bow(noticia) for noticia in df.Tokens]\n",
    "\n",
    "print(corpus[6])"
   ]
  },
  {
   "cell_type": "markdown",
   "metadata": {},
   "source": [
    "#### Construimos el modelo LDA"
   ]
  },
  {
   "cell_type": "code",
   "execution_count": 13,
   "metadata": {},
   "outputs": [],
   "source": [
    "lda = LdaModel(corpus=corpus, id2word=diccionario, num_topics=50, random_state=42, \n",
    "               chunksize=1000, passes=10, alpha='auto')"
   ]
  },
  {
   "cell_type": "code",
   "execution_count": 14,
   "metadata": {},
   "outputs": [
    {
     "name": "stdout",
     "output_type": "stream",
     "text": [
      "(32, '0.065*\"azul\" + 0.055*\"eolic\" + 0.041*\"sueñ\" + 0.039*\"arroy\" + 0.037*\"luz\"')\n",
      "(10, '0.103*\"dolar\" + 0.084*\"uu\" + 0.084*\"ee\" + 0.025*\"jon\" + 0.023*\"street\"')\n",
      "(38, '0.173*\"encuest\" + 0.047*\"votant\" + 0.042*\"dat\" + 0.041*\"ciudadan\" + 0.040*\"cis\"')\n",
      "(20, '0.081*\"israel\" + 0.042*\"palestin\" + 0.019*\"netanyahu\" + 0.018*\"trump\" + 0.014*\"territori\"')\n",
      "(29, '0.133*\"dependent\" + 0.042*\"punic\" + 0.038*\"dependient\" + 0.038*\"ramirez\" + 0.029*\"list\"')\n",
      "(34, '0.121*\"cantabri\" + 0.087*\"santand\" + 0.048*\"cantabr\" + 0.040*\"miguel\" + 0.031*\"mar\"')\n",
      "(24, '0.028*\"efect\" + 0.024*\"estudi\" + 0.015*\"tratamient\" + 0.014*\"pued\" + 0.013*\"salud\"')\n",
      "(9, '0.039*\"miguel\" + 0.023*\"cas\" + 0.015*\"conden\" + 0.013*\"pnv\" + 0.012*\"corrupcion\"')\n",
      "(37, '0.305*\"castill\" + 0.184*\"leon\" + 0.085*\"junt\" + 0.064*\"valladol\" + 0.038*\"provinci\"')\n",
      "(4, '0.035*\"cas\" + 0.031*\"univers\" + 0.027*\"mast\" + 0.020*\"cifuent\" + 0.015*\"curs\"')\n",
      "(26, '0.032*\"millon\" + 0.024*\"eur\" + 0.019*\"econom\" + 0.014*\"año\" + 0.009*\"banc\"')\n",
      "(35, '0.009*\"proyect\" + 0.008*\"agu\" + 0.007*\"desarroll\" + 0.006*\"cambi\" + 0.006*\"medi\"')\n",
      "(17, '0.021*\"inform\" + 0.016*\"public\" + 0.011*\"empres\" + 0.008*\"eur\" + 0.007*\"segun\"')\n",
      "(48, '0.015*\"barri\" + 0.013*\"social\" + 0.012*\"viv\" + 0.012*\"call\" + 0.012*\"person\"')\n",
      "(43, '0.020*\"pp\" + 0.020*\"part\" + 0.018*\"gobiern\" + 0.013*\"polit\" + 0.010*\"sanchez\"')\n",
      "(1, '0.017*\"gobiern\" + 0.014*\"comun\" + 0.013*\"sanitari\" + 0.010*\"salud\" + 0.008*\"sanid\"')\n",
      "(46, '0.008*\"histori\" + 0.007*\"libr\" + 0.006*\"pelicul\" + 0.005*\"cin\" + 0.005*\"años\"')\n",
      "(49, '0.014*\"tribunal\" + 0.008*\"fiscal\" + 0.008*\"judicial\" + 0.008*\"justici\" + 0.007*\"derech\"')\n",
      "(11, '0.012*\"años\" + 0.010*\"pas\" + 0.009*\"cas\" + 0.009*\"hac\" + 0.008*\"dos\"')\n",
      "(19, '0.022*\"hac\" + 0.017*\"si\" + 0.014*\"pued\" + 0.011*\"cre\" + 0.011*\"ser\"')\n"
     ]
    }
   ],
   "source": [
    "topicos = lda.print_topics(num_words=5, num_topics=20)\n",
    "for topico in topicos:\n",
    "    print(topico)"
   ]
  },
  {
   "cell_type": "markdown",
   "metadata": {},
   "source": [
    "Visualizamos los tópicos como nubes de palabras"
   ]
  },
  {
   "cell_type": "code",
   "execution_count": 15,
   "metadata": {},
   "outputs": [
    {
     "data": {
      "image/png": "[encoded data removed]",
      "text/plain": [
       "<Figure size 432x288 with 1 Axes>"
      ]
     },
     "metadata": {
      "needs_background": "light"
     },
     "output_type": "display_data"
    },
    {
     "data": {
      "image/png": "[encoded data removed]",
      "text/plain": [
       "<Figure size 432x288 with 1 Axes>"
      ]
     },
     "metadata": {
      "needs_background": "light"
     },
     "output_type": "display_data"
    },
    {
     "data": {
      "image/png": "[encoded data removed]",
      "text/plain": [
       "<Figure size 432x288 with 1 Axes>"
      ]
     },
     "metadata": {
      "needs_background": "light"
     },
     "output_type": "display_data"
    },
    {
     "data": {
      "image/png": "[encoded data removed]",
      "text/plain": [
       "<Figure size 432x288 with 1 Axes>"
      ]
     },
     "metadata": {
      "needs_background": "light"
     },
     "output_type": "display_data"
    }
   ],
   "source": [
    "for i in range(1, 5):\n",
    "    plt.figure()\n",
    "    plt.imshow(WordCloud(background_color='white', prefer_horizontal=1.0).fit_words(dict(lda.show_topic(i, 20))))\n",
    "    plt.axis(\"off\")\n",
    "    plt.title(\"Tópico \" + str(i))\n",
    "    plt.show()"
   ]
  },
  {
   "cell_type": "markdown",
   "metadata": {},
   "source": [
    "#### Evaluación del modelo con un artículo de ejemplo ya visto\n",
    "Para ello, escogemos una noticia aleatoriamente para evaluar si los tópicos escogidos por el modelo le representan."
   ]
  },
  {
   "cell_type": "code",
   "execution_count": 16,
   "metadata": {
    "scrolled": true
   },
   "outputs": [
    {
     "name": "stdout",
     "output_type": "stream",
     "text": [
      "Titular: El Polígono Sur y Los Pajaritos, en Sevilla, repiten como barrios más pobres de España según el informe anual del INE\n",
      "La edición 2020 de los Indicadores Urbanos del Instituto Nacional de Estadística (INE), enmarcados en el proyecto europeo Urban Audit sobre las condiciones de vida en las ciudades de la Unión Europea, incluye de nuevo al Polígono Sur de Sevilla como el barrio de menor renta neta media anual por habitante de toda España, seguido otra vez de Los Pajaritos y Amate y con un total de seis barrios de la capital andaluza entre los 15 con menor renta neta media anual por persona de toda España.                  En este estudio, elaborado principalmente a partir de datos estadísticos correspondientes a 2017 y recogido por Europa Press, Los Palacios y Villafranca, en la provincia de Sevilla, vuelve a figurar como el segundo municipio español de más de 20.000 habitantes con menor renta neta media anual por persona, con 7.027 euros para tal indicativo.                  Además, y con relación a la provincia de Sevilla, Lebrija figura como undécimo municipio con menor renta neta media anual por persona con 7.545 euros por habitante; figurando Coria del Río en el puesto número 15 con una renta neta media anual por persona de 7.700 euros.               Écija figura en el puesto 32 con 8.154 euros por persona, San Juan de Aznalfarache en el puesto número 36 con 8.186 euros por persona, Utrera en el puesto 44 con una renta neta media anual de 8.290 por habitante, La Rinconada en el puesto 47 con 8.325 euros por persona y en el puesto 49, Carmona con 8.344 euros por vecino.                  En cuanto a la tasa de paro, y merced a los datos correspondientes a 2019, Alcalá de Guadaíra figura en el cuarto lugar en cuanto a la mayor tasa de paro de las 126 principales ciudades de España, con una tasa del 26,4 por ciento; mientras Dos Hermanas figura en el duodécimo lugar con una tasa del 24,6 por ciento.               En materia de barrios, Sevilla capital vuelve a contar con seis barrios de los 15 con menor renta neta media anual por habitante de toda España, según los datos estadísticos de 2017.               De nuevo, el Polígono Sur repite como barrio con menor renta neta media anual por habitante de toda España, con 5.112 euros por persona, seguido de Los Pajaritos y Amate con 5.516 euros por habitante, y cuatro barrios más en los puestos cuarto, décimo, duodécimo y decimotercero.            Etiquetas    /   Andalucía   /   Sevilla\n"
     ]
    }
   ],
   "source": [
    "indice_noticia = random.randint(0,len(df))\n",
    "noticia = df.iloc[indice_noticia]\n",
    "print(\"Titular: \" + noticia.Titular)\n",
    "print(noticia.Noticia)"
   ]
  },
  {
   "cell_type": "code",
   "execution_count": 17,
   "metadata": {},
   "outputs": [
    {
     "data": {
      "text/plain": [
       "5116"
      ]
     },
     "execution_count": 17,
     "metadata": {},
     "output_type": "execute_result"
    }
   ],
   "source": [
    "indice_noticia"
   ]
  },
  {
   "cell_type": "markdown",
   "metadata": {},
   "source": [
    "Obtenemos el BOW del artículo."
   ]
  },
  {
   "cell_type": "code",
   "execution_count": 18,
   "metadata": {
    "scrolled": true
   },
   "outputs": [
    {
     "data": {
      "text/plain": [
       "[(48, 3),\n",
       " (59, 1),\n",
       " (67, 5),\n",
       " (68, 1),\n",
       " (70, 1),\n",
       " (71, 1),\n",
       " (110, 1),\n",
       " (126, 1),\n",
       " (131, 1),\n",
       " (142, 1),\n",
       " (154, 2),\n",
       " (158, 1),\n",
       " (166, 1),\n",
       " (176, 1),\n",
       " (177, 1),\n",
       " (189, 4),\n",
       " (193, 1),\n",
       " (203, 1),\n",
       " (267, 2),\n",
       " (271, 1),\n",
       " (295, 1),\n",
       " (321, 9),\n",
       " (354, 1),\n",
       " (361, 1),\n",
       " (394, 6),\n",
       " (405, 2),\n",
       " (407, 1),\n",
       " (413, 2),\n",
       " (414, 2),\n",
       " (429, 2),\n",
       " (436, 8),\n",
       " (458, 1),\n",
       " (469, 2),\n",
       " (470, 2),\n",
       " (492, 4),\n",
       " (513, 1),\n",
       " (521, 6),\n",
       " (533, 2),\n",
       " (540, 1),\n",
       " (569, 2),\n",
       " (599, 8),\n",
       " (615, 7),\n",
       " (677, 2),\n",
       " (688, 1),\n",
       " (696, 1),\n",
       " (743, 1),\n",
       " (840, 1),\n",
       " (916, 1),\n",
       " (1007, 1),\n",
       " (1124, 2),\n",
       " (1130, 1),\n",
       " (1152, 2),\n",
       " (1217, 2),\n",
       " (1249, 1),\n",
       " (1287, 2),\n",
       " (1320, 1),\n",
       " (1335, 3),\n",
       " (1511, 1),\n",
       " (1552, 1),\n",
       " (1590, 1),\n",
       " (1601, 2),\n",
       " (1645, 2),\n",
       " (1798, 8),\n",
       " (1808, 8),\n",
       " (1851, 1),\n",
       " (1855, 2),\n",
       " (1858, 8),\n",
       " (1976, 2),\n",
       " (2034, 7),\n",
       " (2048, 1),\n",
       " (2251, 5),\n",
       " (2305, 6),\n",
       " (2666, 1),\n",
       " (2947, 2),\n",
       " (3184, 2),\n",
       " (3231, 1),\n",
       " (3485, 1),\n",
       " (3664, 1),\n",
       " (3837, 1),\n",
       " (4758, 1),\n",
       " (5538, 1),\n",
       " (8158, 1),\n",
       " (8311, 2),\n",
       " (8316, 2),\n",
       " (8318, 1),\n",
       " (8665, 1),\n",
       " (8866, 1),\n",
       " (9010, 1),\n",
       " (18686, 1),\n",
       " (20382, 2),\n",
       " (23598, 1),\n",
       " (23772, 1),\n",
       " (23903, 1)]"
      ]
     },
     "execution_count": 18,
     "metadata": {},
     "output_type": "execute_result"
    }
   ],
   "source": [
    "bow_noticia = corpus[indice_noticia]\n",
    "bow_noticia"
   ]
  },
  {
   "cell_type": "markdown",
   "metadata": {},
   "source": [
    "Usamos el modelo para obtener la distribución de los tópicos."
   ]
  },
  {
   "cell_type": "code",
   "execution_count": 19,
   "metadata": {},
   "outputs": [],
   "source": [
    "distribucion_noticia = lda[bow_noticia]"
   ]
  },
  {
   "cell_type": "markdown",
   "metadata": {},
   "source": [
    "Sacamos los índices y la contribución (proporción) de los tópicos más significativos para nuestro artículo."
   ]
  },
  {
   "cell_type": "code",
   "execution_count": 20,
   "metadata": {},
   "outputs": [],
   "source": [
    "# Indices de los topicos mas significativos\n",
    "dist_indices = [topico[0] for topico in lda[bow_noticia]]\n",
    "# Contribucion de los topicos mas significativos\n",
    "dist_contrib = [topico[1] for topico in lda[bow_noticia]]"
   ]
  },
  {
   "cell_type": "markdown",
   "metadata": {},
   "source": [
    "Mostramos en un gráfico los tópicos más importantes."
   ]
  },
  {
   "cell_type": "code",
   "execution_count": 21,
   "metadata": {
    "scrolled": false
   },
   "outputs": [
    {
     "data": {
      "image/png": "[encoded data removed]",
      "text/plain": [
       "<Figure size 432x288 with 1 Axes>"
      ]
     },
     "metadata": {
      "needs_background": "light"
     },
     "output_type": "display_data"
    }
   ],
   "source": [
    "distribucion_topicos = pd.DataFrame({'Topico':dist_indices,'Contribucion':dist_contrib })\n",
    "distribucion_topicos.sort_values('Contribucion', ascending=False, inplace=True)\n",
    "ax = distribucion_topicos.plot.bar(y='Contribucion',x='Topico', rot=0, color=\"orange\",\n",
    "                                   title = \"Tópicos más importantes para documento nº: \" + str(indice_noticia))"
   ]
  },
  {
   "cell_type": "markdown",
   "metadata": {},
   "source": [
    "Mostramos estos tópicos y sus palabras más significativas."
   ]
  },
  {
   "cell_type": "code",
   "execution_count": 22,
   "metadata": {},
   "outputs": [
    {
     "name": "stdout",
     "output_type": "stream",
     "text": [
      "*** Tópico: 26 ***\n",
      "millon, eur, econom, año, banc, españ, impuest, mayor, empres, sector \n",
      "\n",
      "*** Tópico: 48 ***\n",
      "barri, social, viv, call, person, vecin, pobr, mes, pobrez, rent \n",
      "\n",
      "*** Tópico: 14 ***\n",
      "andaluc, incendi, malag, sevill, zon, junt, andaluz, play, camp, segun \n",
      "\n",
      "*** Tópico: 35 ***\n",
      "proyect, agu, desarroll, cambi, medi, climat, form, nuev, zon, ciud \n",
      "\n",
      "*** Tópico: 16 ***\n",
      "rey, juan, carl, fiscal, suiz, español, emerit, investig, felip, millon \n",
      "\n"
     ]
    }
   ],
   "source": [
    "for ind, topico in distribucion_topicos.iterrows():\n",
    "    print(\"*** Tópico: \" + str(int(topico.Topico)) + \" ***\")\n",
    "    palabras = [palabra[0] for palabra in lda.show_topic(topicid=int(topico.Topico))]\n",
    "    palabras = ', '.join(palabras)\n",
    "    print(palabras, \"\\n\")"
   ]
  },
  {
   "cell_type": "markdown",
   "metadata": {},
   "source": [
    "#### Evaluación del modelo con un artículo nuevo"
   ]
  },
  {
   "cell_type": "code",
   "execution_count": 23,
   "metadata": {},
   "outputs": [],
   "source": [
    "texto_articulo = open(\"noticia1.txt\")\n",
    "articulo_nuevo = texto_articulo.read().replace(\"\\n\", \" \")\n",
    "texto_articulo.close()"
   ]
  },
  {
   "cell_type": "markdown",
   "metadata": {},
   "source": [
    "Realizamos el preprocesamiento al texto, al igual que hicimos con el conjunto de artículos."
   ]
  },
  {
   "cell_type": "code",
   "execution_count": 24,
   "metadata": {},
   "outputs": [
    {
     "data": {
      "text/plain": [
       "['cantabri',\n",
       " 'viv',\n",
       " 'año',\n",
       " 'negr',\n",
       " 'refier',\n",
       " 'violenci',\n",
       " 'gener',\n",
       " 'doc',\n",
       " 'mes',\n",
       " 'comun',\n",
       " 'acumul',\n",
       " 'total',\n",
       " 'denunci',\n",
       " 'mujer',\n",
       " 'victim',\n",
       " 'violenci',\n",
       " 'machist',\n",
       " 'año',\n",
       " 'sald',\n",
       " 'dos',\n",
       " 'asesin',\n",
       " 'man',\n",
       " 'parej',\n",
       " 'unas',\n",
       " 'cifr',\n",
       " 'sobrecog',\n",
       " 'marc',\n",
       " 'hoj',\n",
       " 'rut',\n",
       " 'segun',\n",
       " 'reconoc',\n",
       " 'viern',\n",
       " 'portavoz',\n",
       " 'gobiern',\n",
       " 'autonom',\n",
       " 'pabl',\n",
       " 'zuloag',\n",
       " 'present',\n",
       " 'memori',\n",
       " 'anual',\n",
       " 'mal',\n",
       " 'dat',\n",
       " 'par',\n",
       " 'ahi',\n",
       " 'inform',\n",
       " 'recog',\n",
       " 'numer',\n",
       " 'denunci',\n",
       " 'present',\n",
       " 'cantabri',\n",
       " 'año',\n",
       " 'pas',\n",
       " 'supon',\n",
       " 'cifr',\n",
       " 'alta',\n",
       " 'registr',\n",
       " 'ahor',\n",
       " 'dict',\n",
       " 'total',\n",
       " 'orden',\n",
       " 'alej',\n",
       " 'acus',\n",
       " 'conden',\n",
       " 'firm',\n",
       " 'tribunal',\n",
       " 'registr',\n",
       " 'avergüenz',\n",
       " 'socied',\n",
       " 'expres',\n",
       " 'vicepresident',\n",
       " 'cantabri',\n",
       " 'present',\n",
       " 'segun',\n",
       " 'memori',\n",
       " 'centr',\n",
       " 'inform',\n",
       " 'atencion',\n",
       " 'integral',\n",
       " 'gobiern',\n",
       " 'cantabri',\n",
       " 'asesor',\n",
       " 'mujer',\n",
       " 'acud',\n",
       " 'primer',\n",
       " 'vez',\n",
       " 'are',\n",
       " 'mal',\n",
       " 'trat',\n",
       " 'mujer',\n",
       " 'asist',\n",
       " 'menor',\n",
       " 'total',\n",
       " 'person',\n",
       " 'ingres',\n",
       " 'centr',\n",
       " 'emergent',\n",
       " 'cual',\n",
       " 'mujer',\n",
       " 'person',\n",
       " 'dependient',\n",
       " 'ademas',\n",
       " 'centr',\n",
       " 'acog',\n",
       " 'permanec',\n",
       " 'victim',\n",
       " 'mujer',\n",
       " 'person',\n",
       " 'dependient',\n",
       " 'mujer',\n",
       " 'pis',\n",
       " 'tutel',\n",
       " 'acog',\n",
       " 'mujer',\n",
       " 'menor',\n",
       " 'victim',\n",
       " 'violenci',\n",
       " 'gener',\n",
       " 'año',\n",
       " 'maruchi',\n",
       " 'rebec',\n",
       " 'asesin',\n",
       " 'cantabri',\n",
       " 'año',\n",
       " 'cantabr',\n",
       " 'present',\n",
       " 'denunci',\n",
       " 'violenci',\n",
       " 'gener',\n",
       " 'dict',\n",
       " 'orden',\n",
       " 'alej',\n",
       " 'juzg',\n",
       " 'violenci',\n",
       " 'muj',\n",
       " 'conden',\n",
       " 'hombr',\n",
       " 'acus',\n",
       " 'violenci',\n",
       " 'gener',\n",
       " 'resum',\n",
       " 'zuloag',\n",
       " 'cifr',\n",
       " 'sobrecog',\n",
       " 'marc',\n",
       " 'hoj',\n",
       " 'rut',\n",
       " 'insist',\n",
       " 'vicepresident',\n",
       " 'defend',\n",
       " 'administr',\n",
       " 'institu',\n",
       " 'respons',\n",
       " 'afront',\n",
       " 'ret',\n",
       " 'luch',\n",
       " 'violenci',\n",
       " 'gener',\n",
       " 'camin',\n",
       " 'señal',\n",
       " 'avanc',\n",
       " 'import',\n",
       " 'ambit',\n",
       " 'normat',\n",
       " 'aprob',\n",
       " 'ley',\n",
       " 'iguald',\n",
       " 'colabor',\n",
       " 'institu',\n",
       " 'zuloag',\n",
       " 'record',\n",
       " 'gobiern',\n",
       " 'increment',\n",
       " 'recurs',\n",
       " 'asistencial',\n",
       " 'especial',\n",
       " 'entrad',\n",
       " 'funcion',\n",
       " 'part',\n",
       " 'mes',\n",
       " 'juli',\n",
       " 'dos',\n",
       " 'nuev',\n",
       " 'centr',\n",
       " 'atencion',\n",
       " 'integral',\n",
       " 'intensific',\n",
       " 'actuacion',\n",
       " 'formacion',\n",
       " 'sensibiliz',\n",
       " 'med',\n",
       " 'prevencion',\n",
       " 'alert',\n",
       " 'form',\n",
       " 'violenci',\n",
       " 'muj',\n",
       " 'conviv',\n",
       " 'maner',\n",
       " 'ordinari',\n",
       " 'referent',\n",
       " 'prostitu',\n",
       " 'llam',\n",
       " 'despert',\n",
       " 'club',\n",
       " 'pis',\n",
       " 'cantabri',\n",
       " 'esclavitud',\n",
       " 'violenci',\n",
       " 'mujer',\n",
       " 'ademas',\n",
       " 'poc',\n",
       " 'medi',\n",
       " 'defend',\n",
       " 'destac',\n",
       " 'compromis',\n",
       " 'gobiern',\n",
       " 'españ',\n",
       " 'futur',\n",
       " 'ley',\n",
       " 'integral',\n",
       " 'trat',\n",
       " 'confirm',\n",
       " 'ejecut',\n",
       " 'cantabr',\n",
       " 'va',\n",
       " 'segu',\n",
       " 'impuls',\n",
       " 'elabor',\n",
       " 'norm',\n",
       " 'estatal',\n",
       " 'ocho',\n",
       " 'años',\n",
       " 'denunci',\n",
       " 'part',\n",
       " 'director',\n",
       " 'general',\n",
       " 'iguald',\n",
       " 'muj',\n",
       " 'consuel',\n",
       " 'gutierrez',\n",
       " 'aunqu',\n",
       " 'consider',\n",
       " 'posit',\n",
       " 'increment',\n",
       " 'denunci',\n",
       " 'dad',\n",
       " 'supon',\n",
       " 'mayor',\n",
       " 'concienci',\n",
       " 'llam',\n",
       " 'atencion',\n",
       " 'tiemp',\n",
       " 'tard',\n",
       " 'mujer',\n",
       " 'denunci',\n",
       " 'cantabri',\n",
       " 'ocho',\n",
       " 'ocho',\n",
       " 'años',\n",
       " 'señal',\n",
       " 'mujer',\n",
       " 'victim',\n",
       " 'mayor',\n",
       " 'años',\n",
       " 'present',\n",
       " 'period',\n",
       " 'maltrat',\n",
       " 'superior',\n",
       " 'años',\n",
       " 'cas',\n",
       " 'period',\n",
       " 'situ',\n",
       " 'años',\n",
       " 'caus',\n",
       " 'combin',\n",
       " 'llev',\n",
       " 'mujer',\n",
       " 'denunci',\n",
       " 'situacion',\n",
       " 'violenci',\n",
       " 'gener',\n",
       " 'consuel',\n",
       " 'gutierrez',\n",
       " 'cit',\n",
       " 'mied',\n",
       " 'cas',\n",
       " 'vergüenz',\n",
       " 'sensacion',\n",
       " 'pod',\n",
       " 'sal',\n",
       " 'sol',\n",
       " 'situacion',\n",
       " 'maltrat',\n",
       " 'creenci',\n",
       " 'pod',\n",
       " 'cambi',\n",
       " 'revert',\n",
       " 'situacion',\n",
       " 'matern',\n",
       " 'existent',\n",
       " 'menor',\n",
       " 'carg']"
      ]
     },
     "execution_count": 24,
     "metadata": {},
     "output_type": "execute_result"
    }
   ],
   "source": [
    "articulo_nuevo = limpiar_texto(articulo_nuevo)\n",
    "articulo_nuevo = tokenizer.tokenize(articulo_nuevo)\n",
    "articulo_nuevo = filtrar_stopword_digitos(articulo_nuevo)\n",
    "articulo_nuevo = stem_palabras(articulo_nuevo)\n",
    "articulo_nuevo"
   ]
  },
  {
   "cell_type": "markdown",
   "metadata": {},
   "source": [
    "Lo siguiente será pasar el artículo a BOW, obtener los indices y contribucion de los tópicos más importantes y mostrarlos en un gráfico de barras."
   ]
  },
  {
   "cell_type": "code",
   "execution_count": 25,
   "metadata": {},
   "outputs": [],
   "source": [
    "bow_articulo_nuevo = diccionario.doc2bow(articulo_nuevo)"
   ]
  },
  {
   "cell_type": "code",
   "execution_count": 26,
   "metadata": {},
   "outputs": [],
   "source": [
    "# Indices de los topicos mas significativos\n",
    "dist_indices = [topico[0] for topico in lda[bow_articulo_nuevo]]\n",
    "# Contribucion de los topicos mas significativos\n",
    "dist_contrib = [topico[1] for topico in lda[bow_articulo_nuevo]]"
   ]
  },
  {
   "cell_type": "code",
   "execution_count": 27,
   "metadata": {},
   "outputs": [
    {
     "data": {
      "image/png": "[encoded data removed]",
      "text/plain": [
       "<Figure size 432x288 with 1 Axes>"
      ]
     },
     "metadata": {
      "needs_background": "light"
     },
     "output_type": "display_data"
    }
   ],
   "source": [
    "distribucion_topicos = pd.DataFrame({'Topico':dist_indices,'Contribucion':dist_contrib })\n",
    "distribucion_topicos.sort_values('Contribucion', ascending=False, inplace=True)\n",
    "ax = distribucion_topicos.plot.bar(y='Contribucion',x='Topico', rot=0, color=\"green\",\n",
    "                                   title = \"Tópicos más importantes para documento nuevo\")"
   ]
  },
  {
   "cell_type": "code",
   "execution_count": 28,
   "metadata": {},
   "outputs": [
    {
     "name": "stdout",
     "output_type": "stream",
     "text": [
      "*** Tópico: 7 ***\n",
      "mujer, sexual, violenci, gener, hombr, person, muj, femin, victim, iguald \n",
      "\n",
      "*** Tópico: 1 ***\n",
      "gobiern, comun, sanitari, salud, sanid, situacion, med, canari, public, autonom \n",
      "\n",
      "*** Tópico: 49 ***\n",
      "tribunal, fiscal, judicial, justici, derech, delit, suprem, cas, ley, sentenci \n",
      "\n",
      "*** Tópico: 0 ***\n",
      "cas, resident, posit, person, dat, fallec, ultim, nuev, centr, cov \n",
      "\n",
      "*** Tópico: 11 ***\n",
      "años, pas, cas, hac, dos, sal, lleg, dia, trabaj, llev \n",
      "\n",
      "*** Tópico: 34 ***\n",
      "cantabri, santand, cantabr, miguel, mar, angel, salmeron, menendez, torrelaveg, ceip \n",
      "\n",
      "*** Tópico: 41 ***\n",
      "franc, victim, español, españ, memori, civil, muert, polit, derech, iglesi \n",
      "\n",
      "*** Tópico: 35 ***\n",
      "proyect, agu, desarroll, cambi, medi, climat, form, nuev, zon, ciud \n",
      "\n",
      "*** Tópico: 21 ***\n",
      "person, migrant, lleg, inmigr, acog, refugi, fronter, españ, pais, rescat \n",
      "\n",
      "*** Tópico: 23 ***\n",
      "navarr, cataluny, barcelon, catalan, generalitat, torr, govern, foral, independent, cataluñ \n",
      "\n",
      "*** Tópico: 46 ***\n",
      "histori, libr, pelicul, cin, años, vid, mund, nuev, public, personaj \n",
      "\n"
     ]
    }
   ],
   "source": [
    "for ind, topico in distribucion_topicos.iterrows():\n",
    "    print(\"*** Tópico: \" + str(int(topico.Topico)) + \" ***\")\n",
    "    palabras = [palabra[0] for palabra in lda.show_topic(topicid=int(topico.Topico))]\n",
    "    palabras = ', '.join(palabras)\n",
    "    print(palabras, \"\\n\")"
   ]
  },
  {
   "cell_type": "markdown",
   "metadata": {},
   "source": [
    "Guardamos el modelo y el diccionario para usarlos posteriormente con el comando load."
   ]
  },
  {
   "cell_type": "code",
   "execution_count": 29,
   "metadata": {},
   "outputs": [],
   "source": [
    "lda.save(\"articulos.model\")\n",
    "diccionario.save(\"articulos.dictionary\")"
   ]
  },
  {
   "cell_type": "markdown",
   "metadata": {},
   "source": [
    "## Parte III: Similitud de documentos de texto"
   ]
  },
  {
   "cell_type": "markdown",
   "metadata": {},
   "source": [
    "#### Importamos las librerías necesarias"
   ]
  },
  {
   "cell_type": "code",
   "execution_count": 54,
   "metadata": {},
   "outputs": [],
   "source": [
    "from gensim.matutils import jensen_shannon"
   ]
  },
  {
   "attachments": {},
   "cell_type": "markdown",
   "metadata": {},
   "source": [
    "#### Prueba 1: Noticas más similares de una noticia sobre violencia de género"
   ]
  },
  {
   "cell_type": "markdown",
   "metadata": {},
   "source": [
    "Distribución de tópicos de nuestra noticia sobre violencia de género."
   ]
  },
  {
   "cell_type": "code",
   "execution_count": 61,
   "metadata": {},
   "outputs": [],
   "source": [
    "distribucion_noticia = lda.get_document_topics(bow_articulo_nuevo, \n",
    "                                               minimum_probability=0)"
   ]
  },
  {
   "cell_type": "markdown",
   "metadata": {},
   "source": [
    "Creamos un método para calcular la distancia entre dos documentos a partir de sus distribuciones de tópicos."
   ]
  },
  {
   "cell_type": "code",
   "execution_count": 62,
   "metadata": {},
   "outputs": [],
   "source": [
    "def calcular_jensen_shannon_sim_doc_doc(doc_dist1, doc_dist2):\n",
    "    \"\"\"Calcula la distancia Jensen Shannon entre dos documentos.\n",
    "    \"\"\"\n",
    "    return jensen_shannon(doc_dist1, doc_dist2)"
   ]
  },
  {
   "cell_type": "markdown",
   "metadata": {},
   "source": [
    "Implementamos un método que se encarga de calcular las distancias entre las distribuciones de tópicos de nuestra noticia con las del resto de noticias y muestra el titular de las más similares, es decir, las que tengan la distancia más baja, junto con la distancia."
   ]
  },
  {
   "cell_type": "code",
   "execution_count": 63,
   "metadata": {},
   "outputs": [],
   "source": [
    "def mostrar_n_mas_similares(distribucion_noticia, n):\n",
    "    \"\"\"Muestra las n noticias mas similares a partir \n",
    "       de una distribucion de tópicos.\n",
    "    \"\"\"\n",
    "    distancias = [calcular_jensen_shannon_sim_doc_doc(\n",
    "        distribucion_noticia, lda[noticia]) for noticia in corpus]\n",
    "    mas_similares = np.argsort(distancias)\n",
    "    for i in range(0,n):\n",
    "        titular = df.iloc[int(mas_similares[i])].Titular\n",
    "        print(f'{i + 1}: {titular} ({distancias[mas_similares[i]]})')"
   ]
  },
  {
   "cell_type": "markdown",
   "metadata": {},
   "source": [
    "Mostramos las 10 noticias más similares."
   ]
  },
  {
   "cell_type": "code",
   "execution_count": 64,
   "metadata": {},
   "outputs": [
    {
     "name": "stdout",
     "output_type": "stream",
     "text": [
      "1: El año arranca con el reto de reconocer la violencia machista fuera de la pareja tras los 47 asesinatos contabilizados en 2018 (0.09249553084373474)\n",
      "2: La violencia machista deja mil mujeres asesinadas por hombres en los últimos dieciséis años (0.11838279664516449)\n",
      "3: Más de 40 ciudades acogen manifestaciones contra la sentencia de la violación grupal de Manresa (0.1389278918504715)\n",
      "4: Obligan a una niña argentina de 11 años violada a someterse a una cesárea en lugar de un aborto (0.16407731175422668)\n",
      "5: La Fiscalía no probó ninguna denuncia falsa por violencia de género el año pasado (0.1668342649936676)\n",
      "6: La atención sanitaria a las personas trans en Catalunya dejará de estar basada en un diagnóstico psiquiátrico (0.171798974275589)\n",
      "7: El Parlamento de Navarra solicita por unanimidad medios para esclarecer los casos de abusos en la Iglesia (0.17249423265457153)\n",
      "8: Por una ley integral contra la trata de personas (0.18349292874336243)\n",
      "9: Fue violación: el Supremo condena a quince años de cárcel a los cinco miembros de 'la manada' por agresión sexual (0.1846129298210144)\n",
      "10: Asesinada por su marido una mujer de 78 años en Las Palmas de Gran Canaria (0.18781311810016632)\n"
     ]
    }
   ],
   "source": [
    "mostrar_n_mas_similares(distribucion_noticia, 10)"
   ]
  },
  {
   "cell_type": "markdown",
   "metadata": {},
   "source": [
    "#### Prueba 2: Noticas más similares de una noticia sobre Trump"
   ]
  },
  {
   "cell_type": "markdown",
   "metadata": {},
   "source": [
    "Realizamos una segunda prueba utilizando una noticia sobre Trump y las elecciones en Estados Unidos del 2020."
   ]
  },
  {
   "cell_type": "code",
   "execution_count": 65,
   "metadata": {
    "scrolled": true
   },
   "outputs": [
    {
     "data": {
      "text/plain": [
       "' El Servicio Postal de Estados Unidos (USPS, por sus siglas en inglés) se ha convertido en los últimos días en protagonista de la pelea entre Donald Trump y los demócratas de cara a las elecciones del próximo 3 de noviembre.  El presidente clama contra \"los riesgos de fraude del voto universal por correo\" y dice que, si se permite, Estados Unidos será \"el hazmerreír de todo el mundo\".  Del otro lado, los demócratas, liderados por la presidenta de la Cámara de Representantes, Nancy Pelosi, denuncian que Trump encabeza \"una campaña para sabotear las elecciones\".  Este año, además, el país se encuentra en plena pandemia de coronavirus, lo que desanimará aún más a los electores a acudir a las urnas.  Se espera, por tanto, que el voto por correo alcance cifras récord y de ahí que haya cobrado especial relevancia en el debate político.  El propio servicio postal ha advertido que es posible que millones de papeletas no lleguen a tiempo de ser contadas. Distintos tipos de voto por correo  Son los estados, y no el gobierno federal, los que deben definir si permiten el voto universal por correo, que significa que todos los electores reciben de forma automática una papeleta antes de las elecciones, o si adoptan el sistema de voto en ausencia, en el que el elector tiene que solicitar el voto por correo para poder tener la papeleta en casa.  Solo un puñado de estados han dicho hasta ahora que admiten el voto universal por correo; algunos de ellos lo hacían ya antes de la pandemia.  En los demás estados, los electores tienen que solicitar el voto por correo.  En algunos de ellos, además, deben justificar la petición por una de las siguientes razones: formar parte del ejército, ser mayor de 65 años, estar enfermo o fuera del estado el día de las elecciones.  El propio Trump utiliza el voto en ausencia por estar registrado en Florida y dice no tener problemas con ese sistema.  El pasado sábado, Trump advirtió: \"El voto universal por correo será catastrófico, hará que nuestro país sea el hazmerreír del mundo\".  \"El problema con el voto por correo, en primer lugar, es que nunca vas a saber cuándo acaba la elección\", continuó.  Prosiguió diciendo que el resultado de las elecciones de noviembre quizá no se conozca \"en meses o años, porque esas papeletas se van a perder, desaparecerán\".  Esas declaraciones se suman a denuncias previas de que el voto universal por correo llevaría a un fraude beneficioso para su rival demócrata, Joe Biden.  Por su parte, voces demócratas, incluidas las de los líderes del partido en el Congreso y la del expresidente Barack Obama, acusan a Trump de atacar el voto por correo y al USPS en un intento de \"socavar las elecciones\". '"
      ]
     },
     "execution_count": 65,
     "metadata": {},
     "output_type": "execute_result"
    }
   ],
   "source": [
    "texto_articulo = open(\"noticia2.txt\")\n",
    "articulo_nuevo = texto_articulo.read().replace(\"\\n\", \" \")\n",
    "texto_articulo.close()\n",
    "articulo_nuevo"
   ]
  },
  {
   "cell_type": "markdown",
   "metadata": {},
   "source": [
    "Como siempre, preprocesamos el texto."
   ]
  },
  {
   "cell_type": "code",
   "execution_count": 69,
   "metadata": {},
   "outputs": [],
   "source": [
    "articulo_nuevo = limpiar_texto(articulo_nuevo)\n",
    "articulo_nuevo = tokenizer.tokenize(articulo_nuevo)\n",
    "articulo_nuevo = filtrar_stopword_digitos(articulo_nuevo)\n",
    "articulo_nuevo = stem_palabras(articulo_nuevo)"
   ]
  },
  {
   "cell_type": "markdown",
   "metadata": {},
   "source": [
    "Obtenemos la distribución de la noticia."
   ]
  },
  {
   "cell_type": "code",
   "execution_count": 67,
   "metadata": {},
   "outputs": [],
   "source": [
    "bow_articulo_nuevo = diccionario.doc2bow(articulo_nuevo)\n",
    "distribucion_noticia = lda.get_document_topics(bow_articulo_nuevo, \n",
    "                                               minimum_probability=0)"
   ]
  },
  {
   "cell_type": "markdown",
   "metadata": {},
   "source": [
    "Mostramos las 10 noticias más similares."
   ]
  },
  {
   "cell_type": "code",
   "execution_count": 68,
   "metadata": {},
   "outputs": [
    {
     "name": "stdout",
     "output_type": "stream",
     "text": [
      "1: Trump contra el sistema democrático: \"La única manera de perder estas elecciones es si están amañadas\" (0.08675152063369751)\n",
      "2: Trump redobla los ataques al voto por correo y Twitter alerta de datos engañosos (0.1108022928237915)\n",
      "3: Trump, obligado a suspender las polémicas reformas del servicio postal en medio de su guerra contra el voto por correo (0.12227611988782883)\n",
      "4: Trump desafía las restricciones de afluencia por el coronavirus con un mitin multitudinario en Nevada (0.12261532992124557)\n",
      "5: Trump desacredita las encuestas y carga nuevamente contra el voto por correo: \"Creo que va a amañar las elecciones\" (0.13689066469669342)\n",
      "6: Michelle Obama, protagonista en la apertura de la convención demócrata: \"Trump no puede ser quien necesitamos que sea. Es lo que es\" (0.138019859790802)\n",
      "7: Elecciones disputadas, polarización y crisis constitucional en EEUU... La lección de 1876 para los comicios de 2020 (0.15536248683929443)\n",
      "8: Obama advierte de que Trump está dispuesto a \"derribar la democracia para ganar\" y ve el cargo como un \"reality show\" (0.15747606754302979)\n",
      "9: Trump promete vacunas para todos en abril y alerta del voto por correo en EE.UU. (0.1696244478225708)\n",
      "10: Facebook bloqueará los mensajes políticos antes de las elecciones en EE UU (0.17046895623207092)\n"
     ]
    }
   ],
   "source": [
    "mostrar_n_mas_similares(distribucion_noticia, 10)"
   ]
  }
 ],
 "metadata": {
  "kernelspec": {
   "display_name": "Python 3",
   "language": "python",
   "name": "python3"
  },
  "language_info": {
   "codemirror_mode": {
    "name": "ipython",
    "version": 3
   },
   "file_extension": ".py",
   "mimetype": "text/x-python",
   "name": "python",
   "nbconvert_exporter": "python",
   "pygments_lexer": "ipython3",
   "version": "3.8.3"
  },
  "toc": {
   "base_numbering": 1,
   "nav_menu": {},
   "number_sections": false,
   "sideBar": true,
   "skip_h1_title": false,
   "title_cell": "Table of Contents",
   "title_sidebar": "Contents",
   "toc_cell": false,
   "toc_position": {},
   "toc_section_display": true,
   "toc_window_display": false
  }
 },
 "nbformat": 4,
 "nbformat_minor": 2
}
