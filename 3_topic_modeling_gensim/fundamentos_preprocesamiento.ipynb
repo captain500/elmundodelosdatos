{
 "cells": [
  {
   "cell_type": "markdown",
   "metadata": {},
   "source": [
    "# Tutorial: Introducción al Topic Modeling con Gensim"
   ]
  },
  {
   "cell_type": "markdown",
   "metadata": {},
   "source": [
    "## Parte I: Fundamentos y preprocesamiento"
   ]
  },
  {
   "cell_type": "markdown",
   "metadata": {},
   "source": [
    "#### Importamos las librerías necesarias"
   ]
  },
  {
   "cell_type": "code",
   "execution_count": 1,
   "metadata": {},
   "outputs": [],
   "source": [
    "import json, re\n",
    "import pandas as pd \n",
    "from nltk.corpus import stopwords\n",
    "from nltk.stem import SnowballStemmer\n",
    "from nltk.tokenize import ToktokTokenizer"
   ]
  },
  {
   "cell_type": "markdown",
   "metadata": {},
   "source": [
    "#### Cargamos los datos y creamos un Dataframe con los titulares y las noticias"
   ]
  },
  {
   "cell_type": "code",
   "execution_count": 2,
   "metadata": {
    "scrolled": true
   },
   "outputs": [
    {
     "name": "stdout",
     "output_type": "stream",
     "text": [
      "(5665, 2)\n"
     ]
    },
    {
     "data": {
      "text/html": [
       "<div>\n",
       "<style scoped>\n",
       "    .dataframe tbody tr th:only-of-type {\n",
       "        vertical-align: middle;\n",
       "    }\n",
       "\n",
       "    .dataframe tbody tr th {\n",
       "        vertical-align: top;\n",
       "    }\n",
       "\n",
       "    .dataframe thead th {\n",
       "        text-align: right;\n",
       "    }\n",
       "</style>\n",
       "<table border=\"1\" class=\"dataframe\">\n",
       "  <thead>\n",
       "    <tr style=\"text-align: right;\">\n",
       "      <th></th>\n",
       "      <th>Titular</th>\n",
       "      <th>Noticia</th>\n",
       "    </tr>\n",
       "  </thead>\n",
       "  <tbody>\n",
       "    <tr>\n",
       "      <th>0</th>\n",
       "      <td>Un estudio impulsado por la Universidad de San...</td>\n",
       "      <td>El virus SARS-Cov-2 entró en España por la ciu...</td>\n",
       "    </tr>\n",
       "    <tr>\n",
       "      <th>1</th>\n",
       "      <td>Las claves: qué es Montai y quién está detrás</td>\n",
       "      <td>¿Qué es Montai? ¿Qué relación guarda con las o...</td>\n",
       "    </tr>\n",
       "    <tr>\n",
       "      <th>2</th>\n",
       "      <td>Robots entregan domicilios en Medellín durante...</td>\n",
       "      <td>Unos 15 robots recorren las calles de Medellín...</td>\n",
       "    </tr>\n",
       "    <tr>\n",
       "      <th>3</th>\n",
       "      <td>Grazón insiste en que un nuevo estado de alarm...</td>\n",
       "      <td>En una entrevista en Radio Euskadi, recogida p...</td>\n",
       "    </tr>\n",
       "    <tr>\n",
       "      <th>4</th>\n",
       "      <td>Vox se sube a la ola de la extrema derecha eur...</td>\n",
       "      <td>\"España ha dejado de ser católica\", decía Manu...</td>\n",
       "    </tr>\n",
       "  </tbody>\n",
       "</table>\n",
       "</div>"
      ],
      "text/plain": [
       "                                             Titular  \\\n",
       "0  Un estudio impulsado por la Universidad de San...   \n",
       "1      Las claves: qué es Montai y quién está detrás   \n",
       "2  Robots entregan domicilios en Medellín durante...   \n",
       "3  Grazón insiste en que un nuevo estado de alarm...   \n",
       "4  Vox se sube a la ola de la extrema derecha eur...   \n",
       "\n",
       "                                             Noticia  \n",
       "0  El virus SARS-Cov-2 entró en España por la ciu...  \n",
       "1  ¿Qué es Montai? ¿Qué relación guarda con las o...  \n",
       "2  Unos 15 robots recorren las calles de Medellín...  \n",
       "3  En una entrevista en Radio Euskadi, recogida p...  \n",
       "4  \"España ha dejado de ser católica\", decía Manu...  "
      ]
     },
     "execution_count": 2,
     "metadata": {},
     "output_type": "execute_result"
    }
   ],
   "source": [
    "with open('noticias.txt') as json_file:\n",
    "    datos = json.load(json_file)\n",
    "tuplas = list(zip([noticia.get(\"titular\") for noticia in datos],\n",
    "                  [noticia.get(\"texto\") for noticia in datos]))\n",
    "df = pd.DataFrame(tuplas, columns =['Titular', 'Noticia'])\n",
    "print(df.shape)\n",
    "df.head()"
   ]
  },
  {
   "cell_type": "markdown",
   "metadata": {},
   "source": [
    "#### Preprocesamiento y limpieza de los textos\n",
    "\n",
    "Creamos un método que se encarge de realizar una limpieza inicial de los texto mediante la eliminación de los caracteres especiales, de las palabras con un solo caracter, convirtiendo a minúsculas los textos, etc."
   ]
  },
  {
   "cell_type": "code",
   "execution_count": 3,
   "metadata": {},
   "outputs": [],
   "source": [
    "def limpiar_texto(texto):\n",
    "    \"\"\"\n",
    "    Función para realizar la limpieza de un texto dado.\n",
    "    \"\"\"\n",
    "    # Eliminamos los caracteres especiales\n",
    "    texto = re.sub(r'\\W', ' ', str(texto))\n",
    "    # Eliminado las palabras que tengo un solo caracter\n",
    "    texto = re.sub(r'\\s+[a-zA-Z]\\s+', ' ', texto)\n",
    "    # Sustituir los espacios en blanco en uno solo\n",
    "    texto = re.sub(r'\\s+', ' ', texto, flags=re.I)\n",
    "    # Convertimos textos a minusculas\n",
    "    texto = texto.lower()\n",
    "    return texto"
   ]
  },
  {
   "cell_type": "markdown",
   "metadata": {},
   "source": [
    "Aplicamos la función a cada noticia"
   ]
  },
  {
   "cell_type": "code",
   "execution_count": 4,
   "metadata": {
    "scrolled": true
   },
   "outputs": [
    {
     "data": {
      "text/html": [
       "<div>\n",
       "<style scoped>\n",
       "    .dataframe tbody tr th:only-of-type {\n",
       "        vertical-align: middle;\n",
       "    }\n",
       "\n",
       "    .dataframe tbody tr th {\n",
       "        vertical-align: top;\n",
       "    }\n",
       "\n",
       "    .dataframe thead th {\n",
       "        text-align: right;\n",
       "    }\n",
       "</style>\n",
       "<table border=\"1\" class=\"dataframe\">\n",
       "  <thead>\n",
       "    <tr style=\"text-align: right;\">\n",
       "      <th></th>\n",
       "      <th>Titular</th>\n",
       "      <th>Noticia</th>\n",
       "      <th>Tokens</th>\n",
       "    </tr>\n",
       "  </thead>\n",
       "  <tbody>\n",
       "    <tr>\n",
       "      <th>0</th>\n",
       "      <td>Un estudio impulsado por la Universidad de San...</td>\n",
       "      <td>El virus SARS-Cov-2 entró en España por la ciu...</td>\n",
       "      <td>el virus sars cov 2 entró en españa por la ciu...</td>\n",
       "    </tr>\n",
       "    <tr>\n",
       "      <th>1</th>\n",
       "      <td>Las claves: qué es Montai y quién está detrás</td>\n",
       "      <td>¿Qué es Montai? ¿Qué relación guarda con las o...</td>\n",
       "      <td>qué es montai qué relación guarda con las otr...</td>\n",
       "    </tr>\n",
       "    <tr>\n",
       "      <th>2</th>\n",
       "      <td>Robots entregan domicilios en Medellín durante...</td>\n",
       "      <td>Unos 15 robots recorren las calles de Medellín...</td>\n",
       "      <td>unos 15 robots recorren las calles de medellín...</td>\n",
       "    </tr>\n",
       "    <tr>\n",
       "      <th>3</th>\n",
       "      <td>Grazón insiste en que un nuevo estado de alarm...</td>\n",
       "      <td>En una entrevista en Radio Euskadi, recogida p...</td>\n",
       "      <td>en una entrevista en radio euskadi recogida po...</td>\n",
       "    </tr>\n",
       "    <tr>\n",
       "      <th>4</th>\n",
       "      <td>Vox se sube a la ola de la extrema derecha eur...</td>\n",
       "      <td>\"España ha dejado de ser católica\", decía Manu...</td>\n",
       "      <td>españa ha dejado de ser católica decía manuel...</td>\n",
       "    </tr>\n",
       "  </tbody>\n",
       "</table>\n",
       "</div>"
      ],
      "text/plain": [
       "                                             Titular  \\\n",
       "0  Un estudio impulsado por la Universidad de San...   \n",
       "1      Las claves: qué es Montai y quién está detrás   \n",
       "2  Robots entregan domicilios en Medellín durante...   \n",
       "3  Grazón insiste en que un nuevo estado de alarm...   \n",
       "4  Vox se sube a la ola de la extrema derecha eur...   \n",
       "\n",
       "                                             Noticia  \\\n",
       "0  El virus SARS-Cov-2 entró en España por la ciu...   \n",
       "1  ¿Qué es Montai? ¿Qué relación guarda con las o...   \n",
       "2  Unos 15 robots recorren las calles de Medellín...   \n",
       "3  En una entrevista en Radio Euskadi, recogida p...   \n",
       "4  \"España ha dejado de ser católica\", decía Manu...   \n",
       "\n",
       "                                              Tokens  \n",
       "0  el virus sars cov 2 entró en españa por la ciu...  \n",
       "1   qué es montai qué relación guarda con las otr...  \n",
       "2  unos 15 robots recorren las calles de medellín...  \n",
       "3  en una entrevista en radio euskadi recogida po...  \n",
       "4   españa ha dejado de ser católica decía manuel...  "
      ]
     },
     "execution_count": 4,
     "metadata": {},
     "output_type": "execute_result"
    }
   ],
   "source": [
    "df[\"Tokens\"] = df.Noticia.apply(limpiar_texto)\n",
    "df.head()"
   ]
  },
  {
   "cell_type": "markdown",
   "metadata": {},
   "source": [
    "Realizamos la tokenización para dividir los textos en palabras individuales. "
   ]
  },
  {
   "cell_type": "code",
   "execution_count": 5,
   "metadata": {
    "scrolled": true
   },
   "outputs": [
    {
     "data": {
      "text/html": [
       "<div>\n",
       "<style scoped>\n",
       "    .dataframe tbody tr th:only-of-type {\n",
       "        vertical-align: middle;\n",
       "    }\n",
       "\n",
       "    .dataframe tbody tr th {\n",
       "        vertical-align: top;\n",
       "    }\n",
       "\n",
       "    .dataframe thead th {\n",
       "        text-align: right;\n",
       "    }\n",
       "</style>\n",
       "<table border=\"1\" class=\"dataframe\">\n",
       "  <thead>\n",
       "    <tr style=\"text-align: right;\">\n",
       "      <th></th>\n",
       "      <th>Titular</th>\n",
       "      <th>Noticia</th>\n",
       "      <th>Tokens</th>\n",
       "    </tr>\n",
       "  </thead>\n",
       "  <tbody>\n",
       "    <tr>\n",
       "      <th>0</th>\n",
       "      <td>Un estudio impulsado por la Universidad de San...</td>\n",
       "      <td>El virus SARS-Cov-2 entró en España por la ciu...</td>\n",
       "      <td>[el, virus, sars, cov, 2, entró, en, españa, p...</td>\n",
       "    </tr>\n",
       "    <tr>\n",
       "      <th>1</th>\n",
       "      <td>Las claves: qué es Montai y quién está detrás</td>\n",
       "      <td>¿Qué es Montai? ¿Qué relación guarda con las o...</td>\n",
       "      <td>[qué, es, montai, qué, relación, guarda, con, ...</td>\n",
       "    </tr>\n",
       "    <tr>\n",
       "      <th>2</th>\n",
       "      <td>Robots entregan domicilios en Medellín durante...</td>\n",
       "      <td>Unos 15 robots recorren las calles de Medellín...</td>\n",
       "      <td>[unos, 15, robots, recorren, las, calles, de, ...</td>\n",
       "    </tr>\n",
       "    <tr>\n",
       "      <th>3</th>\n",
       "      <td>Grazón insiste en que un nuevo estado de alarm...</td>\n",
       "      <td>En una entrevista en Radio Euskadi, recogida p...</td>\n",
       "      <td>[en, una, entrevista, en, radio, euskadi, reco...</td>\n",
       "    </tr>\n",
       "    <tr>\n",
       "      <th>4</th>\n",
       "      <td>Vox se sube a la ola de la extrema derecha eur...</td>\n",
       "      <td>\"España ha dejado de ser católica\", decía Manu...</td>\n",
       "      <td>[españa, ha, dejado, de, ser, católica, decía,...</td>\n",
       "    </tr>\n",
       "  </tbody>\n",
       "</table>\n",
       "</div>"
      ],
      "text/plain": [
       "                                             Titular  \\\n",
       "0  Un estudio impulsado por la Universidad de San...   \n",
       "1      Las claves: qué es Montai y quién está detrás   \n",
       "2  Robots entregan domicilios en Medellín durante...   \n",
       "3  Grazón insiste en que un nuevo estado de alarm...   \n",
       "4  Vox se sube a la ola de la extrema derecha eur...   \n",
       "\n",
       "                                             Noticia  \\\n",
       "0  El virus SARS-Cov-2 entró en España por la ciu...   \n",
       "1  ¿Qué es Montai? ¿Qué relación guarda con las o...   \n",
       "2  Unos 15 robots recorren las calles de Medellín...   \n",
       "3  En una entrevista en Radio Euskadi, recogida p...   \n",
       "4  \"España ha dejado de ser católica\", decía Manu...   \n",
       "\n",
       "                                              Tokens  \n",
       "0  [el, virus, sars, cov, 2, entró, en, españa, p...  \n",
       "1  [qué, es, montai, qué, relación, guarda, con, ...  \n",
       "2  [unos, 15, robots, recorren, las, calles, de, ...  \n",
       "3  [en, una, entrevista, en, radio, euskadi, reco...  \n",
       "4  [españa, ha, dejado, de, ser, católica, decía,...  "
      ]
     },
     "execution_count": 5,
     "metadata": {},
     "output_type": "execute_result"
    }
   ],
   "source": [
    "tokenizer = ToktokTokenizer() \n",
    "df[\"Tokens\"] = df.Tokens.apply(tokenizer.tokenize)\n",
    "df.head()"
   ]
  },
  {
   "cell_type": "markdown",
   "metadata": {},
   "source": [
    "Filtramos las stopwords y los dígitos."
   ]
  },
  {
   "cell_type": "code",
   "execution_count": 6,
   "metadata": {},
   "outputs": [
    {
     "data": {
      "text/html": [
       "<div>\n",
       "<style scoped>\n",
       "    .dataframe tbody tr th:only-of-type {\n",
       "        vertical-align: middle;\n",
       "    }\n",
       "\n",
       "    .dataframe tbody tr th {\n",
       "        vertical-align: top;\n",
       "    }\n",
       "\n",
       "    .dataframe thead th {\n",
       "        text-align: right;\n",
       "    }\n",
       "</style>\n",
       "<table border=\"1\" class=\"dataframe\">\n",
       "  <thead>\n",
       "    <tr style=\"text-align: right;\">\n",
       "      <th></th>\n",
       "      <th>Titular</th>\n",
       "      <th>Noticia</th>\n",
       "      <th>Tokens</th>\n",
       "    </tr>\n",
       "  </thead>\n",
       "  <tbody>\n",
       "    <tr>\n",
       "      <th>0</th>\n",
       "      <td>Un estudio impulsado por la Universidad de San...</td>\n",
       "      <td>El virus SARS-Cov-2 entró en España por la ciu...</td>\n",
       "      <td>[virus, sars, cov, entró, españa, ciudad, vito...</td>\n",
       "    </tr>\n",
       "    <tr>\n",
       "      <th>1</th>\n",
       "      <td>Las claves: qué es Montai y quién está detrás</td>\n",
       "      <td>¿Qué es Montai? ¿Qué relación guarda con las o...</td>\n",
       "      <td>[montai, relación, guarda, empresas, quién, de...</td>\n",
       "    </tr>\n",
       "    <tr>\n",
       "      <th>2</th>\n",
       "      <td>Robots entregan domicilios en Medellín durante...</td>\n",
       "      <td>Unos 15 robots recorren las calles de Medellín...</td>\n",
       "      <td>[robots, recorren, calles, medellín, realizar,...</td>\n",
       "    </tr>\n",
       "    <tr>\n",
       "      <th>3</th>\n",
       "      <td>Grazón insiste en que un nuevo estado de alarm...</td>\n",
       "      <td>En una entrevista en Radio Euskadi, recogida p...</td>\n",
       "      <td>[entrevista, radio, euskadi, recogida, europa,...</td>\n",
       "    </tr>\n",
       "    <tr>\n",
       "      <th>4</th>\n",
       "      <td>Vox se sube a la ola de la extrema derecha eur...</td>\n",
       "      <td>\"España ha dejado de ser católica\", decía Manu...</td>\n",
       "      <td>[españa, dejado, ser, católica, decía, manuel,...</td>\n",
       "    </tr>\n",
       "  </tbody>\n",
       "</table>\n",
       "</div>"
      ],
      "text/plain": [
       "                                             Titular  \\\n",
       "0  Un estudio impulsado por la Universidad de San...   \n",
       "1      Las claves: qué es Montai y quién está detrás   \n",
       "2  Robots entregan domicilios en Medellín durante...   \n",
       "3  Grazón insiste en que un nuevo estado de alarm...   \n",
       "4  Vox se sube a la ola de la extrema derecha eur...   \n",
       "\n",
       "                                             Noticia  \\\n",
       "0  El virus SARS-Cov-2 entró en España por la ciu...   \n",
       "1  ¿Qué es Montai? ¿Qué relación guarda con las o...   \n",
       "2  Unos 15 robots recorren las calles de Medellín...   \n",
       "3  En una entrevista en Radio Euskadi, recogida p...   \n",
       "4  \"España ha dejado de ser católica\", decía Manu...   \n",
       "\n",
       "                                              Tokens  \n",
       "0  [virus, sars, cov, entró, españa, ciudad, vito...  \n",
       "1  [montai, relación, guarda, empresas, quién, de...  \n",
       "2  [robots, recorren, calles, medellín, realizar,...  \n",
       "3  [entrevista, radio, euskadi, recogida, europa,...  \n",
       "4  [españa, dejado, ser, católica, decía, manuel,...  "
      ]
     },
     "execution_count": 6,
     "metadata": {},
     "output_type": "execute_result"
    }
   ],
   "source": [
    "STOPWORDS = set(stopwords.words(\"spanish\"))\n",
    "\n",
    "def filtrar_stopword_digitos(tokens):\n",
    "    \"\"\"\n",
    "    Filtra stopwords y digitos de una lista de tokens.\n",
    "    \"\"\"\n",
    "    return [token for token in tokens if token not in STOPWORDS \n",
    "            and not token.isdigit()]\n",
    "\n",
    "df[\"Tokens\"] = df.Tokens.apply(filtrar_stopword_digitos)\n",
    "df.head()"
   ]
  },
  {
   "cell_type": "code",
   "execution_count": 7,
   "metadata": {},
   "outputs": [
    {
     "data": {
      "text/html": [
       "<div>\n",
       "<style scoped>\n",
       "    .dataframe tbody tr th:only-of-type {\n",
       "        vertical-align: middle;\n",
       "    }\n",
       "\n",
       "    .dataframe tbody tr th {\n",
       "        vertical-align: top;\n",
       "    }\n",
       "\n",
       "    .dataframe thead th {\n",
       "        text-align: right;\n",
       "    }\n",
       "</style>\n",
       "<table border=\"1\" class=\"dataframe\">\n",
       "  <thead>\n",
       "    <tr style=\"text-align: right;\">\n",
       "      <th></th>\n",
       "      <th>Titular</th>\n",
       "      <th>Noticia</th>\n",
       "      <th>Tokens</th>\n",
       "    </tr>\n",
       "  </thead>\n",
       "  <tbody>\n",
       "    <tr>\n",
       "      <th>0</th>\n",
       "      <td>Un estudio impulsado por la Universidad de San...</td>\n",
       "      <td>El virus SARS-Cov-2 entró en España por la ciu...</td>\n",
       "      <td>[virus, sars, cov, entro, españ, ciud, vitori,...</td>\n",
       "    </tr>\n",
       "    <tr>\n",
       "      <th>1</th>\n",
       "      <td>Las claves: qué es Montai y quién está detrás</td>\n",
       "      <td>¿Qué es Montai? ¿Qué relación guarda con las o...</td>\n",
       "      <td>[montai, relacion, guard, empres, quien, detra...</td>\n",
       "    </tr>\n",
       "    <tr>\n",
       "      <th>2</th>\n",
       "      <td>Robots entregan domicilios en Medellín durante...</td>\n",
       "      <td>Unos 15 robots recorren las calles de Medellín...</td>\n",
       "      <td>[robots, recorr, call, medellin, realiz, entre...</td>\n",
       "    </tr>\n",
       "    <tr>\n",
       "      <th>3</th>\n",
       "      <td>Grazón insiste en que un nuevo estado de alarm...</td>\n",
       "      <td>En una entrevista en Radio Euskadi, recogida p...</td>\n",
       "      <td>[entrev, radi, euskadi, recog, europ, press, g...</td>\n",
       "    </tr>\n",
       "    <tr>\n",
       "      <th>4</th>\n",
       "      <td>Vox se sube a la ola de la extrema derecha eur...</td>\n",
       "      <td>\"España ha dejado de ser católica\", decía Manu...</td>\n",
       "      <td>[españ, dej, ser, catol, dec, manuel, azañ, co...</td>\n",
       "    </tr>\n",
       "  </tbody>\n",
       "</table>\n",
       "</div>"
      ],
      "text/plain": [
       "                                             Titular  \\\n",
       "0  Un estudio impulsado por la Universidad de San...   \n",
       "1      Las claves: qué es Montai y quién está detrás   \n",
       "2  Robots entregan domicilios en Medellín durante...   \n",
       "3  Grazón insiste en que un nuevo estado de alarm...   \n",
       "4  Vox se sube a la ola de la extrema derecha eur...   \n",
       "\n",
       "                                             Noticia  \\\n",
       "0  El virus SARS-Cov-2 entró en España por la ciu...   \n",
       "1  ¿Qué es Montai? ¿Qué relación guarda con las o...   \n",
       "2  Unos 15 robots recorren las calles de Medellín...   \n",
       "3  En una entrevista en Radio Euskadi, recogida p...   \n",
       "4  \"España ha dejado de ser católica\", decía Manu...   \n",
       "\n",
       "                                              Tokens  \n",
       "0  [virus, sars, cov, entro, españ, ciud, vitori,...  \n",
       "1  [montai, relacion, guard, empres, quien, detra...  \n",
       "2  [robots, recorr, call, medellin, realiz, entre...  \n",
       "3  [entrev, radi, euskadi, recog, europ, press, g...  \n",
       "4  [españ, dej, ser, catol, dec, manuel, azañ, co...  "
      ]
     },
     "execution_count": 7,
     "metadata": {},
     "output_type": "execute_result"
    }
   ],
   "source": [
    "stemmer = SnowballStemmer(\"spanish\")\n",
    "\n",
    "def stem_palabras(tokens):\n",
    "    \"\"\"\n",
    "    Reduce cada palabra de una lista dada a su raíz.\n",
    "    \"\"\"\n",
    "    return [stemmer.stem(token) for token in tokens]\n",
    "\n",
    "df[\"Tokens\"] = df.Tokens.apply(stem_palabras)\n",
    "\n",
    "df.head()"
   ]
  },
  {
   "cell_type": "markdown",
   "metadata": {},
   "source": [
    "Mostramos las primeras 10 palabras de una noticia a modo de ejemplo"
   ]
  },
  {
   "cell_type": "code",
   "execution_count": 8,
   "metadata": {},
   "outputs": [
    {
     "name": "stdout",
     "output_type": "stream",
     "text": [
      "['virus', 'sars', 'cov', 'entro', 'españ', 'ciud', 'vitori', 'torn', 'febrer', 'conclusion']\n"
     ]
    }
   ],
   "source": [
    "print(df.Tokens[0][0:10])"
   ]
  }
 ],
 "metadata": {
  "kernelspec": {
   "display_name": "Python 3",
   "language": "python",
   "name": "python3"
  },
  "language_info": {
   "codemirror_mode": {
    "name": "ipython",
    "version": 3
   },
   "file_extension": ".py",
   "mimetype": "text/x-python",
   "name": "python",
   "nbconvert_exporter": "python",
   "pygments_lexer": "ipython3",
   "version": "3.8.3"
  },
  "toc": {
   "base_numbering": 1,
   "nav_menu": {},
   "number_sections": false,
   "sideBar": true,
   "skip_h1_title": false,
   "title_cell": "Table of Contents",
   "title_sidebar": "Contents",
   "toc_cell": false,
   "toc_position": {},
   "toc_section_display": true,
   "toc_window_display": false
  }
 },
 "nbformat": 4,
 "nbformat_minor": 2
}
